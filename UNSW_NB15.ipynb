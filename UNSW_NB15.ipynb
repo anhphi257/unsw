{
 "cells": [
  {
   "cell_type": "code",
   "execution_count": 2,
   "metadata": {},
   "outputs": [
    {
     "name": "stderr",
     "output_type": "stream",
     "text": [
      "/home/phiha/anaconda2/lib/python2.7/site-packages/sklearn/cross_validation.py:41: DeprecationWarning: This module was deprecated in version 0.18 in favor of the model_selection module into which all the refactored classes and functions are moved. Also note that the interface of the new CV iterators are different from that of this module. This module will be removed in 0.20.\n",
      "  \"This module will be removed in 0.20.\", DeprecationWarning)\n"
     ]
    }
   ],
   "source": [
    "import numpy as np\n",
    "import pandas as pd\n",
    "from xgboost import XGBClassifier\n",
    "from sklearn.cross_validation import train_test_split\n",
    "from sklearn.metrics import confusion_matrix\n",
    "import os"
   ]
  },
  {
   "cell_type": "code",
   "execution_count": 3,
   "metadata": {
    "collapsed": true
   },
   "outputs": [],
   "source": [
    "data_features = pd.read_csv(os.path.join('data', 'NUSW-NB15_features.csv'), header=None).values\n",
    "features = data_features[1:, :]\n",
    "feature_names = features[:, 1]  # Names of the features in a list\n",
    "feature_types = np.array(\n",
    "    [item.lower() for item in features[:-2, 2]])  # The types of the corresponding features in 'features_names'"
   ]
  },
  {
   "cell_type": "code",
   "execution_count": 4,
   "metadata": {
    "collapsed": true
   },
   "outputs": [],
   "source": [
    "nominal_cols = np.where(feature_types == \"nominal\")[0]\n",
    "integer_cols = np.where(feature_types == \"integer\")[0]\n",
    "float_cols = np.where(feature_types == \"float\")[0]\n",
    "binary_cols = np.where(feature_types == \"binary\")[0]"
   ]
  },
  {
   "cell_type": "code",
   "execution_count": 5,
   "metadata": {},
   "outputs": [
    {
     "name": "stderr",
     "output_type": "stream",
     "text": [
      "/home/phiha/anaconda2/lib/python2.7/site-packages/IPython/core/interactiveshell.py:2718: DtypeWarning: Columns (1,3,47) have mixed types. Specify dtype option on import or set low_memory=False.\n",
      "  interactivity=interactivity, compiler=compiler, result=result)\n",
      "/home/phiha/anaconda2/lib/python2.7/site-packages/IPython/core/interactiveshell.py:2718: DtypeWarning: Columns (3,39,47) have mixed types. Specify dtype option on import or set low_memory=False.\n",
      "  interactivity=interactivity, compiler=compiler, result=result)\n"
     ]
    }
   ],
   "source": [
    "dataframe1 = pd.read_csv(os.path.join(\"data\",\"UNSW-NB15_1.csv\"), header=None)\n",
    "dataframe2 = pd.read_csv(os.path.join(\"data\",\"UNSW-NB15_2.csv\"), header=None)\n",
    "dataframe3 = pd.read_csv(os.path.join(\"data\",\"UNSW-NB15_3.csv\"), header=None)\n",
    "dataframe4 = pd.read_csv(os.path.join(\"data\",\"UNSW-NB15_4.csv\"), header=None)"
   ]
  },
  {
   "cell_type": "code",
   "execution_count": 6,
   "metadata": {},
   "outputs": [
    {
     "name": "stdout",
     "output_type": "stream",
     "text": [
      "Concatenating...\n"
     ]
    }
   ],
   "source": [
    "print('Concatenating...')\n",
    "dataframe = pd.concat([dataframe1, dataframe2, dataframe3, dataframe4])\n",
    "\n",
    "del dataframe1\n",
    "del dataframe2\n",
    "del dataframe3\n",
    "del dataframe4"
   ]
  },
  {
   "cell_type": "code",
   "execution_count": 7,
   "metadata": {
    "collapsed": true
   },
   "outputs": [],
   "source": [
    "# dataframe.columns = feature_names"
   ]
  },
  {
   "cell_type": "code",
   "execution_count": 9,
   "metadata": {
    "collapsed": true
   },
   "outputs": [],
   "source": [
    "#dataframe.service.value_counts()"
   ]
  },
  {
   "cell_type": "code",
   "execution_count": 10,
   "metadata": {},
   "outputs": [
    {
     "data": {
      "text/plain": [
       "47"
      ]
     },
     "execution_count": 10,
     "metadata": {},
     "output_type": "execute_result"
    }
   ],
   "source": [
    "dataframe.columns[47]"
   ]
  },
  {
   "cell_type": "code",
   "execution_count": 11,
   "metadata": {},
   "outputs": [
    {
     "data": {
      "text/plain": [
       "array(['dns', '-', 'http', 'smtp', 'ftp-data', 'ftp', 'ssh', 'pop3',\n",
       "       'snmp', 'ssl', 'irc', 'radius', 'dhcp', nan], dtype=object)"
      ]
     },
     "execution_count": 11,
     "metadata": {},
     "output_type": "execute_result"
    }
   ],
   "source": [
    "dataframe.iloc[:,13].unique()"
   ]
  },
  {
   "cell_type": "code",
   "execution_count": 12,
   "metadata": {
    "collapsed": true
   },
   "outputs": [],
   "source": [
    "dataframe[47].fillna(\"normal\", inplace=True)\n"
   ]
  },
  {
   "cell_type": "code",
   "execution_count": 13,
   "metadata": {
    "collapsed": true
   },
   "outputs": [],
   "source": [
    "df2 = dataframe.iloc[-10:, 10:20]"
   ]
  },
  {
   "cell_type": "code",
   "execution_count": 14,
   "metadata": {},
   "outputs": [
    {
     "data": {
      "text/html": [
       "<div>\n",
       "<style>\n",
       "    .dataframe thead tr:only-child th {\n",
       "        text-align: right;\n",
       "    }\n",
       "\n",
       "    .dataframe thead th {\n",
       "        text-align: left;\n",
       "    }\n",
       "\n",
       "    .dataframe tbody tr th {\n",
       "        vertical-align: top;\n",
       "    }\n",
       "</style>\n",
       "<table border=\"1\" class=\"dataframe\">\n",
       "  <thead>\n",
       "    <tr style=\"text-align: right;\">\n",
       "      <th></th>\n",
       "      <th>10</th>\n",
       "      <th>11</th>\n",
       "      <th>12</th>\n",
       "      <th>13</th>\n",
       "      <th>14</th>\n",
       "      <th>15</th>\n",
       "      <th>16</th>\n",
       "      <th>17</th>\n",
       "      <th>18</th>\n",
       "      <th>19</th>\n",
       "    </tr>\n",
       "  </thead>\n",
       "  <tbody>\n",
       "    <tr>\n",
       "      <th>440034</th>\n",
       "      <td>29.0</td>\n",
       "      <td>2.0</td>\n",
       "      <td>57.0</td>\n",
       "      <td>-</td>\n",
       "      <td>12496.513670</td>\n",
       "      <td>5.983751e+05</td>\n",
       "      <td>58.0</td>\n",
       "      <td>116.0</td>\n",
       "      <td>255.0</td>\n",
       "      <td>255.0</td>\n",
       "    </tr>\n",
       "    <tr>\n",
       "      <th>440035</th>\n",
       "      <td>29.0</td>\n",
       "      <td>2.0</td>\n",
       "      <td>21.0</td>\n",
       "      <td>-</td>\n",
       "      <td>7687.937988</td>\n",
       "      <td>2.913199e+05</td>\n",
       "      <td>22.0</td>\n",
       "      <td>44.0</td>\n",
       "      <td>255.0</td>\n",
       "      <td>255.0</td>\n",
       "    </tr>\n",
       "    <tr>\n",
       "      <th>440036</th>\n",
       "      <td>29.0</td>\n",
       "      <td>2.0</td>\n",
       "      <td>262.0</td>\n",
       "      <td>http</td>\n",
       "      <td>198981.250000</td>\n",
       "      <td>1.091598e+07</td>\n",
       "      <td>262.0</td>\n",
       "      <td>526.0</td>\n",
       "      <td>255.0</td>\n",
       "      <td>255.0</td>\n",
       "    </tr>\n",
       "    <tr>\n",
       "      <th>440037</th>\n",
       "      <td>29.0</td>\n",
       "      <td>5.0</td>\n",
       "      <td>6.0</td>\n",
       "      <td>ftp</td>\n",
       "      <td>2808.172607</td>\n",
       "      <td>3.428493e+03</td>\n",
       "      <td>20.0</td>\n",
       "      <td>20.0</td>\n",
       "      <td>255.0</td>\n",
       "      <td>255.0</td>\n",
       "    </tr>\n",
       "    <tr>\n",
       "      <th>440038</th>\n",
       "      <td>29.0</td>\n",
       "      <td>2.0</td>\n",
       "      <td>262.0</td>\n",
       "      <td>-</td>\n",
       "      <td>198981.250000</td>\n",
       "      <td>1.091598e+07</td>\n",
       "      <td>262.0</td>\n",
       "      <td>526.0</td>\n",
       "      <td>255.0</td>\n",
       "      <td>255.0</td>\n",
       "    </tr>\n",
       "    <tr>\n",
       "      <th>440039</th>\n",
       "      <td>29.0</td>\n",
       "      <td>1.0</td>\n",
       "      <td>2.0</td>\n",
       "      <td>ftp-data</td>\n",
       "      <td>24465.671880</td>\n",
       "      <td>1.466108e+05</td>\n",
       "      <td>6.0</td>\n",
       "      <td>8.0</td>\n",
       "      <td>255.0</td>\n",
       "      <td>255.0</td>\n",
       "    </tr>\n",
       "    <tr>\n",
       "      <th>440040</th>\n",
       "      <td>29.0</td>\n",
       "      <td>2.0</td>\n",
       "      <td>2.0</td>\n",
       "      <td>ftp</td>\n",
       "      <td>8743.816406</td>\n",
       "      <td>6.333240e+03</td>\n",
       "      <td>8.0</td>\n",
       "      <td>6.0</td>\n",
       "      <td>255.0</td>\n",
       "      <td>255.0</td>\n",
       "    </tr>\n",
       "    <tr>\n",
       "      <th>440041</th>\n",
       "      <td>29.0</td>\n",
       "      <td>7.0</td>\n",
       "      <td>9.0</td>\n",
       "      <td>ftp</td>\n",
       "      <td>2204.839844</td>\n",
       "      <td>2.549583e+03</td>\n",
       "      <td>32.0</td>\n",
       "      <td>30.0</td>\n",
       "      <td>255.0</td>\n",
       "      <td>255.0</td>\n",
       "    </tr>\n",
       "    <tr>\n",
       "      <th>440042</th>\n",
       "      <td>29.0</td>\n",
       "      <td>2.0</td>\n",
       "      <td>57.0</td>\n",
       "      <td>http</td>\n",
       "      <td>12496.513670</td>\n",
       "      <td>5.983751e+05</td>\n",
       "      <td>58.0</td>\n",
       "      <td>116.0</td>\n",
       "      <td>255.0</td>\n",
       "      <td>255.0</td>\n",
       "    </tr>\n",
       "    <tr>\n",
       "      <th>440043</th>\n",
       "      <td>252.0</td>\n",
       "      <td>5.0</td>\n",
       "      <td>6.0</td>\n",
       "      <td>pop3</td>\n",
       "      <td>4470.913574</td>\n",
       "      <td>5.259898e+03</td>\n",
       "      <td>12.0</td>\n",
       "      <td>12.0</td>\n",
       "      <td>255.0</td>\n",
       "      <td>255.0</td>\n",
       "    </tr>\n",
       "  </tbody>\n",
       "</table>\n",
       "</div>"
      ],
      "text/plain": [
       "           10   11     12        13             14            15     16  \\\n",
       "440034   29.0  2.0   57.0         -   12496.513670  5.983751e+05   58.0   \n",
       "440035   29.0  2.0   21.0         -    7687.937988  2.913199e+05   22.0   \n",
       "440036   29.0  2.0  262.0      http  198981.250000  1.091598e+07  262.0   \n",
       "440037   29.0  5.0    6.0       ftp    2808.172607  3.428493e+03   20.0   \n",
       "440038   29.0  2.0  262.0         -  198981.250000  1.091598e+07  262.0   \n",
       "440039   29.0  1.0    2.0  ftp-data   24465.671880  1.466108e+05    6.0   \n",
       "440040   29.0  2.0    2.0       ftp    8743.816406  6.333240e+03    8.0   \n",
       "440041   29.0  7.0    9.0       ftp    2204.839844  2.549583e+03   32.0   \n",
       "440042   29.0  2.0   57.0      http   12496.513670  5.983751e+05   58.0   \n",
       "440043  252.0  5.0    6.0      pop3    4470.913574  5.259898e+03   12.0   \n",
       "\n",
       "           17     18     19  \n",
       "440034  116.0  255.0  255.0  \n",
       "440035   44.0  255.0  255.0  \n",
       "440036  526.0  255.0  255.0  \n",
       "440037   20.0  255.0  255.0  \n",
       "440038  526.0  255.0  255.0  \n",
       "440039    8.0  255.0  255.0  \n",
       "440040    6.0  255.0  255.0  \n",
       "440041   30.0  255.0  255.0  \n",
       "440042  116.0  255.0  255.0  \n",
       "440043   12.0  255.0  255.0  "
      ]
     },
     "execution_count": 14,
     "metadata": {},
     "output_type": "execute_result"
    }
   ],
   "source": [
    "df2"
   ]
  },
  {
   "cell_type": "code",
   "execution_count": 15,
   "metadata": {
    "collapsed": true
   },
   "outputs": [],
   "source": [
    "attact_cat = dataframe.iloc[:, 47]\n",
    "labels = dataframe.iloc[:, 48]\n",
    "labels.fillna(0, inplace=True)\n",
    "dataframe = dataframe.iloc[:, :-2]"
   ]
  },
  {
   "cell_type": "code",
   "execution_count": 16,
   "metadata": {
    "collapsed": true
   },
   "outputs": [],
   "source": [
    "df = pd.get_dummies(dataframe, columns=nominal_cols[2:])\n",
    "df.replace(r'\\s+', np.nan, regex=True, inplace=True)\n",
    "df.drop(df.columns[[0,1,2,3]], axis=1, inplace=True)\n",
    "df.fillna(0, inplace=True)"
   ]
  },
  {
   "cell_type": "code",
   "execution_count": 17,
   "metadata": {},
   "outputs": [
    {
     "data": {
      "text/html": [
       "<div>\n",
       "<style>\n",
       "    .dataframe thead tr:only-child th {\n",
       "        text-align: right;\n",
       "    }\n",
       "\n",
       "    .dataframe thead th {\n",
       "        text-align: left;\n",
       "    }\n",
       "\n",
       "    .dataframe tbody tr th {\n",
       "        vertical-align: top;\n",
       "    }\n",
       "</style>\n",
       "<table border=\"1\" class=\"dataframe\">\n",
       "  <thead>\n",
       "    <tr style=\"text-align: right;\">\n",
       "      <th></th>\n",
       "      <th>13_-</th>\n",
       "      <th>13_dhcp</th>\n",
       "      <th>13_dns</th>\n",
       "      <th>13_ftp</th>\n",
       "      <th>13_ftp-data</th>\n",
       "      <th>13_http</th>\n",
       "      <th>13_irc</th>\n",
       "      <th>13_pop3</th>\n",
       "      <th>13_radius</th>\n",
       "      <th>13_smtp</th>\n",
       "      <th>13_snmp</th>\n",
       "      <th>13_ssh</th>\n",
       "      <th>13_ssl</th>\n",
       "    </tr>\n",
       "  </thead>\n",
       "  <tbody>\n",
       "    <tr>\n",
       "      <th>440034</th>\n",
       "      <td>1</td>\n",
       "      <td>0</td>\n",
       "      <td>0</td>\n",
       "      <td>0</td>\n",
       "      <td>0</td>\n",
       "      <td>0</td>\n",
       "      <td>0</td>\n",
       "      <td>0</td>\n",
       "      <td>0</td>\n",
       "      <td>0</td>\n",
       "      <td>0</td>\n",
       "      <td>0</td>\n",
       "      <td>0</td>\n",
       "    </tr>\n",
       "    <tr>\n",
       "      <th>440035</th>\n",
       "      <td>1</td>\n",
       "      <td>0</td>\n",
       "      <td>0</td>\n",
       "      <td>0</td>\n",
       "      <td>0</td>\n",
       "      <td>0</td>\n",
       "      <td>0</td>\n",
       "      <td>0</td>\n",
       "      <td>0</td>\n",
       "      <td>0</td>\n",
       "      <td>0</td>\n",
       "      <td>0</td>\n",
       "      <td>0</td>\n",
       "    </tr>\n",
       "    <tr>\n",
       "      <th>440036</th>\n",
       "      <td>0</td>\n",
       "      <td>0</td>\n",
       "      <td>0</td>\n",
       "      <td>0</td>\n",
       "      <td>0</td>\n",
       "      <td>1</td>\n",
       "      <td>0</td>\n",
       "      <td>0</td>\n",
       "      <td>0</td>\n",
       "      <td>0</td>\n",
       "      <td>0</td>\n",
       "      <td>0</td>\n",
       "      <td>0</td>\n",
       "    </tr>\n",
       "    <tr>\n",
       "      <th>440037</th>\n",
       "      <td>0</td>\n",
       "      <td>0</td>\n",
       "      <td>0</td>\n",
       "      <td>1</td>\n",
       "      <td>0</td>\n",
       "      <td>0</td>\n",
       "      <td>0</td>\n",
       "      <td>0</td>\n",
       "      <td>0</td>\n",
       "      <td>0</td>\n",
       "      <td>0</td>\n",
       "      <td>0</td>\n",
       "      <td>0</td>\n",
       "    </tr>\n",
       "    <tr>\n",
       "      <th>440038</th>\n",
       "      <td>1</td>\n",
       "      <td>0</td>\n",
       "      <td>0</td>\n",
       "      <td>0</td>\n",
       "      <td>0</td>\n",
       "      <td>0</td>\n",
       "      <td>0</td>\n",
       "      <td>0</td>\n",
       "      <td>0</td>\n",
       "      <td>0</td>\n",
       "      <td>0</td>\n",
       "      <td>0</td>\n",
       "      <td>0</td>\n",
       "    </tr>\n",
       "    <tr>\n",
       "      <th>440039</th>\n",
       "      <td>0</td>\n",
       "      <td>0</td>\n",
       "      <td>0</td>\n",
       "      <td>0</td>\n",
       "      <td>1</td>\n",
       "      <td>0</td>\n",
       "      <td>0</td>\n",
       "      <td>0</td>\n",
       "      <td>0</td>\n",
       "      <td>0</td>\n",
       "      <td>0</td>\n",
       "      <td>0</td>\n",
       "      <td>0</td>\n",
       "    </tr>\n",
       "    <tr>\n",
       "      <th>440040</th>\n",
       "      <td>0</td>\n",
       "      <td>0</td>\n",
       "      <td>0</td>\n",
       "      <td>1</td>\n",
       "      <td>0</td>\n",
       "      <td>0</td>\n",
       "      <td>0</td>\n",
       "      <td>0</td>\n",
       "      <td>0</td>\n",
       "      <td>0</td>\n",
       "      <td>0</td>\n",
       "      <td>0</td>\n",
       "      <td>0</td>\n",
       "    </tr>\n",
       "    <tr>\n",
       "      <th>440041</th>\n",
       "      <td>0</td>\n",
       "      <td>0</td>\n",
       "      <td>0</td>\n",
       "      <td>1</td>\n",
       "      <td>0</td>\n",
       "      <td>0</td>\n",
       "      <td>0</td>\n",
       "      <td>0</td>\n",
       "      <td>0</td>\n",
       "      <td>0</td>\n",
       "      <td>0</td>\n",
       "      <td>0</td>\n",
       "      <td>0</td>\n",
       "    </tr>\n",
       "    <tr>\n",
       "      <th>440042</th>\n",
       "      <td>0</td>\n",
       "      <td>0</td>\n",
       "      <td>0</td>\n",
       "      <td>0</td>\n",
       "      <td>0</td>\n",
       "      <td>1</td>\n",
       "      <td>0</td>\n",
       "      <td>0</td>\n",
       "      <td>0</td>\n",
       "      <td>0</td>\n",
       "      <td>0</td>\n",
       "      <td>0</td>\n",
       "      <td>0</td>\n",
       "    </tr>\n",
       "    <tr>\n",
       "      <th>440043</th>\n",
       "      <td>0</td>\n",
       "      <td>0</td>\n",
       "      <td>0</td>\n",
       "      <td>0</td>\n",
       "      <td>0</td>\n",
       "      <td>0</td>\n",
       "      <td>0</td>\n",
       "      <td>1</td>\n",
       "      <td>0</td>\n",
       "      <td>0</td>\n",
       "      <td>0</td>\n",
       "      <td>0</td>\n",
       "      <td>0</td>\n",
       "    </tr>\n",
       "  </tbody>\n",
       "</table>\n",
       "</div>"
      ],
      "text/plain": [
       "        13_-  13_dhcp  13_dns  13_ftp  13_ftp-data  13_http  13_irc  13_pop3  \\\n",
       "440034     1        0       0       0            0        0       0        0   \n",
       "440035     1        0       0       0            0        0       0        0   \n",
       "440036     0        0       0       0            0        1       0        0   \n",
       "440037     0        0       0       1            0        0       0        0   \n",
       "440038     1        0       0       0            0        0       0        0   \n",
       "440039     0        0       0       0            1        0       0        0   \n",
       "440040     0        0       0       1            0        0       0        0   \n",
       "440041     0        0       0       1            0        0       0        0   \n",
       "440042     0        0       0       0            0        1       0        0   \n",
       "440043     0        0       0       0            0        0       0        1   \n",
       "\n",
       "        13_radius  13_smtp  13_snmp  13_ssh  13_ssl  \n",
       "440034          0        0        0       0       0  \n",
       "440035          0        0        0       0       0  \n",
       "440036          0        0        0       0       0  \n",
       "440037          0        0        0       0       0  \n",
       "440038          0        0        0       0       0  \n",
       "440039          0        0        0       0       0  \n",
       "440040          0        0        0       0       0  \n",
       "440041          0        0        0       0       0  \n",
       "440042          0        0        0       0       0  \n",
       "440043          0        0        0       0       0  "
      ]
     },
     "execution_count": 17,
     "metadata": {},
     "output_type": "execute_result"
    }
   ],
   "source": [
    "df.iloc[-10:,191:]"
   ]
  },
  {
   "cell_type": "code",
   "execution_count": 18,
   "metadata": {
    "collapsed": true
   },
   "outputs": [],
   "source": [
    "df1 = df.iloc[-10:,191:]"
   ]
  },
  {
   "cell_type": "code",
   "execution_count": 19,
   "metadata": {},
   "outputs": [
    {
     "data": {
      "text/html": [
       "<div>\n",
       "<style>\n",
       "    .dataframe thead tr:only-child th {\n",
       "        text-align: right;\n",
       "    }\n",
       "\n",
       "    .dataframe thead th {\n",
       "        text-align: left;\n",
       "    }\n",
       "\n",
       "    .dataframe tbody tr th {\n",
       "        vertical-align: top;\n",
       "    }\n",
       "</style>\n",
       "<table border=\"1\" class=\"dataframe\">\n",
       "  <thead>\n",
       "    <tr style=\"text-align: right;\">\n",
       "      <th></th>\n",
       "      <th>srv_-</th>\n",
       "      <th>srv_dhcp</th>\n",
       "      <th>srv_dns</th>\n",
       "      <th>srv_ftp</th>\n",
       "      <th>srv_ftp-data</th>\n",
       "      <th>srv_http</th>\n",
       "      <th>srv_irc</th>\n",
       "      <th>srv_pop3</th>\n",
       "      <th>srv_radius</th>\n",
       "      <th>srv_smtp</th>\n",
       "      <th>srv_snmp</th>\n",
       "      <th>srv_ssh</th>\n",
       "      <th>srv_ssl</th>\n",
       "    </tr>\n",
       "  </thead>\n",
       "  <tbody>\n",
       "    <tr>\n",
       "      <th>440034</th>\n",
       "      <td>1</td>\n",
       "      <td>0</td>\n",
       "      <td>0</td>\n",
       "      <td>0</td>\n",
       "      <td>0</td>\n",
       "      <td>0</td>\n",
       "      <td>0</td>\n",
       "      <td>0</td>\n",
       "      <td>0</td>\n",
       "      <td>0</td>\n",
       "      <td>0</td>\n",
       "      <td>0</td>\n",
       "      <td>0</td>\n",
       "    </tr>\n",
       "    <tr>\n",
       "      <th>440035</th>\n",
       "      <td>1</td>\n",
       "      <td>0</td>\n",
       "      <td>0</td>\n",
       "      <td>0</td>\n",
       "      <td>0</td>\n",
       "      <td>0</td>\n",
       "      <td>0</td>\n",
       "      <td>0</td>\n",
       "      <td>0</td>\n",
       "      <td>0</td>\n",
       "      <td>0</td>\n",
       "      <td>0</td>\n",
       "      <td>0</td>\n",
       "    </tr>\n",
       "    <tr>\n",
       "      <th>440036</th>\n",
       "      <td>0</td>\n",
       "      <td>0</td>\n",
       "      <td>0</td>\n",
       "      <td>0</td>\n",
       "      <td>0</td>\n",
       "      <td>1</td>\n",
       "      <td>0</td>\n",
       "      <td>0</td>\n",
       "      <td>0</td>\n",
       "      <td>0</td>\n",
       "      <td>0</td>\n",
       "      <td>0</td>\n",
       "      <td>0</td>\n",
       "    </tr>\n",
       "    <tr>\n",
       "      <th>440037</th>\n",
       "      <td>0</td>\n",
       "      <td>0</td>\n",
       "      <td>0</td>\n",
       "      <td>1</td>\n",
       "      <td>0</td>\n",
       "      <td>0</td>\n",
       "      <td>0</td>\n",
       "      <td>0</td>\n",
       "      <td>0</td>\n",
       "      <td>0</td>\n",
       "      <td>0</td>\n",
       "      <td>0</td>\n",
       "      <td>0</td>\n",
       "    </tr>\n",
       "    <tr>\n",
       "      <th>440038</th>\n",
       "      <td>1</td>\n",
       "      <td>0</td>\n",
       "      <td>0</td>\n",
       "      <td>0</td>\n",
       "      <td>0</td>\n",
       "      <td>0</td>\n",
       "      <td>0</td>\n",
       "      <td>0</td>\n",
       "      <td>0</td>\n",
       "      <td>0</td>\n",
       "      <td>0</td>\n",
       "      <td>0</td>\n",
       "      <td>0</td>\n",
       "    </tr>\n",
       "    <tr>\n",
       "      <th>440039</th>\n",
       "      <td>0</td>\n",
       "      <td>0</td>\n",
       "      <td>0</td>\n",
       "      <td>0</td>\n",
       "      <td>1</td>\n",
       "      <td>0</td>\n",
       "      <td>0</td>\n",
       "      <td>0</td>\n",
       "      <td>0</td>\n",
       "      <td>0</td>\n",
       "      <td>0</td>\n",
       "      <td>0</td>\n",
       "      <td>0</td>\n",
       "    </tr>\n",
       "    <tr>\n",
       "      <th>440040</th>\n",
       "      <td>0</td>\n",
       "      <td>0</td>\n",
       "      <td>0</td>\n",
       "      <td>1</td>\n",
       "      <td>0</td>\n",
       "      <td>0</td>\n",
       "      <td>0</td>\n",
       "      <td>0</td>\n",
       "      <td>0</td>\n",
       "      <td>0</td>\n",
       "      <td>0</td>\n",
       "      <td>0</td>\n",
       "      <td>0</td>\n",
       "    </tr>\n",
       "    <tr>\n",
       "      <th>440041</th>\n",
       "      <td>0</td>\n",
       "      <td>0</td>\n",
       "      <td>0</td>\n",
       "      <td>1</td>\n",
       "      <td>0</td>\n",
       "      <td>0</td>\n",
       "      <td>0</td>\n",
       "      <td>0</td>\n",
       "      <td>0</td>\n",
       "      <td>0</td>\n",
       "      <td>0</td>\n",
       "      <td>0</td>\n",
       "      <td>0</td>\n",
       "    </tr>\n",
       "    <tr>\n",
       "      <th>440042</th>\n",
       "      <td>0</td>\n",
       "      <td>0</td>\n",
       "      <td>0</td>\n",
       "      <td>0</td>\n",
       "      <td>0</td>\n",
       "      <td>1</td>\n",
       "      <td>0</td>\n",
       "      <td>0</td>\n",
       "      <td>0</td>\n",
       "      <td>0</td>\n",
       "      <td>0</td>\n",
       "      <td>0</td>\n",
       "      <td>0</td>\n",
       "    </tr>\n",
       "    <tr>\n",
       "      <th>440043</th>\n",
       "      <td>0</td>\n",
       "      <td>0</td>\n",
       "      <td>0</td>\n",
       "      <td>0</td>\n",
       "      <td>0</td>\n",
       "      <td>0</td>\n",
       "      <td>0</td>\n",
       "      <td>1</td>\n",
       "      <td>0</td>\n",
       "      <td>0</td>\n",
       "      <td>0</td>\n",
       "      <td>0</td>\n",
       "      <td>0</td>\n",
       "    </tr>\n",
       "  </tbody>\n",
       "</table>\n",
       "</div>"
      ],
      "text/plain": [
       "        srv_-  srv_dhcp  srv_dns  srv_ftp  srv_ftp-data  srv_http  srv_irc  \\\n",
       "440034      1         0        0        0             0         0        0   \n",
       "440035      1         0        0        0             0         0        0   \n",
       "440036      0         0        0        0             0         1        0   \n",
       "440037      0         0        0        1             0         0        0   \n",
       "440038      1         0        0        0             0         0        0   \n",
       "440039      0         0        0        0             1         0        0   \n",
       "440040      0         0        0        1             0         0        0   \n",
       "440041      0         0        0        1             0         0        0   \n",
       "440042      0         0        0        0             0         1        0   \n",
       "440043      0         0        0        0             0         0        0   \n",
       "\n",
       "        srv_pop3  srv_radius  srv_smtp  srv_snmp  srv_ssh  srv_ssl  \n",
       "440034         0           0         0         0        0        0  \n",
       "440035         0           0         0         0        0        0  \n",
       "440036         0           0         0         0        0        0  \n",
       "440037         0           0         0         0        0        0  \n",
       "440038         0           0         0         0        0        0  \n",
       "440039         0           0         0         0        0        0  \n",
       "440040         0           0         0         0        0        0  \n",
       "440041         0           0         0         0        0        0  \n",
       "440042         0           0         0         0        0        0  \n",
       "440043         1           0         0         0        0        0  "
      ]
     },
     "execution_count": 19,
     "metadata": {},
     "output_type": "execute_result"
    }
   ],
   "source": [
    "import re\n",
    "df1.rename(columns=lambda x: re.sub('13','srv',x))"
   ]
  },
  {
   "cell_type": "code",
   "execution_count": null,
   "metadata": {
    "collapsed": true
   },
   "outputs": [],
   "source": []
  },
  {
   "cell_type": "code",
   "execution_count": null,
   "metadata": {
    "collapsed": true
   },
   "outputs": [],
   "source": []
  },
  {
   "cell_type": "code",
   "execution_count": null,
   "metadata": {
    "collapsed": true
   },
   "outputs": [],
   "source": []
  },
  {
   "cell_type": "code",
   "execution_count": 20,
   "metadata": {
    "collapsed": true
   },
   "outputs": [],
   "source": [
    "import time"
   ]
  },
  {
   "cell_type": "code",
   "execution_count": null,
   "metadata": {
    "collapsed": true
   },
   "outputs": [],
   "source": []
  },
  {
   "cell_type": "code",
   "execution_count": 27,
   "metadata": {
    "collapsed": true
   },
   "outputs": [],
   "source": [
    "X = df.astype(np.float64)"
   ]
  },
  {
   "cell_type": "code",
   "execution_count": 28,
   "metadata": {},
   "outputs": [
    {
     "data": {
      "text/plain": [
       "(2086976, 204)"
      ]
     },
     "execution_count": 28,
     "metadata": {},
     "output_type": "execute_result"
    }
   ],
   "source": [
    "X.shape"
   ]
  },
  {
   "cell_type": "code",
   "execution_count": 29,
   "metadata": {
    "collapsed": true
   },
   "outputs": [],
   "source": [
    "y = labels.astype(np.float64)"
   ]
  },
  {
   "cell_type": "code",
   "execution_count": 30,
   "metadata": {},
   "outputs": [
    {
     "data": {
      "text/plain": [
       "(2086976,)"
      ]
     },
     "execution_count": 30,
     "metadata": {},
     "output_type": "execute_result"
    }
   ],
   "source": [
    "y.shape"
   ]
  },
  {
   "cell_type": "code",
   "execution_count": 31,
   "metadata": {
    "collapsed": true
   },
   "outputs": [],
   "source": [
    "seed = 125\n",
    "test_size = 0.2\n",
    "X_train, X_test, y_train, y_test = train_test_split(X, y, test_size=test_size, random_state=seed, stratify=y)\n",
    "# fit model no training data\n"
   ]
  },
  {
   "cell_type": "code",
   "execution_count": 42,
   "metadata": {},
   "outputs": [
    {
     "name": "stdout",
     "output_type": "stream",
     "text": [
      "Training in 138.07\n",
      "[[352173    966]\n",
      " [  1500  62757]]\n"
     ]
    }
   ],
   "source": [
    "#BAGGING TREE\n",
    "from sklearn.ensemble import BaggingClassifier\n",
    "model = BaggingClassifier()\n",
    "start = time.time()\n",
    "model.fit(X_train, y_train)\n",
    "end = time.time()\n",
    "print 'Training in %.2f'%(end-start)\n",
    "y_pred = model.predict(X_test)\n",
    "print confusion_matrix(y_true=y_test, y_pred=y_pred)"
   ]
  },
  {
   "cell_type": "code",
   "execution_count": 43,
   "metadata": {},
   "outputs": [
    {
     "name": "stdout",
     "output_type": "stream",
     "text": [
      "Training in 17.87\n",
      "[[352045   1094]\n",
      " [  1680  62577]]\n"
     ]
    }
   ],
   "source": [
    "#RF\n",
    "from sklearn.ensemble import RandomForestClassifier\n",
    "model = RandomForestClassifier()\n",
    "start = time.time()\n",
    "model.fit(X_train, y_train)\n",
    "end = time.time()\n",
    "print 'Training in %.2f'%(end-start)\n",
    "y_pred = model.predict(X_test)\n",
    "print confusion_matrix(y_true=y_test, y_pred=y_pred)"
   ]
  },
  {
   "cell_type": "code",
   "execution_count": 36,
   "metadata": {},
   "outputs": [
    {
     "name": "stdout",
     "output_type": "stream",
     "text": [
      "Training in 66.68\n"
     ]
    }
   ],
   "source": [
    "model = XGBClassifier()\n",
    "start = time.time()\n",
    "model.fit(X_train, y_train)\n",
    "end = time.time()\n",
    "print 'Training in %.2f'%(end-start)"
   ]
  },
  {
   "cell_type": "code",
   "execution_count": 37,
   "metadata": {
    "collapsed": true
   },
   "outputs": [],
   "source": [
    "y_pred = model.predict(X_test)"
   ]
  },
  {
   "cell_type": "code",
   "execution_count": null,
   "metadata": {
    "collapsed": true
   },
   "outputs": [],
   "source": []
  },
  {
   "cell_type": "code",
   "execution_count": 38,
   "metadata": {},
   "outputs": [
    {
     "name": "stdout",
     "output_type": "stream",
     "text": [
      "[[351325   1814]\n",
      " [  2112  62145]]\n"
     ]
    }
   ],
   "source": [
    "print confusion_matrix(y_true=y_test, y_pred=y_pred)"
   ]
  },
  {
   "cell_type": "code",
   "execution_count": 39,
   "metadata": {
    "collapsed": true
   },
   "outputs": [],
   "source": [
    "from sklearn.metrics import classification_report\n"
   ]
  },
  {
   "cell_type": "code",
   "execution_count": 40,
   "metadata": {},
   "outputs": [
    {
     "name": "stdout",
     "output_type": "stream",
     "text": [
      "             precision    recall  f1-score   support\n",
      "\n",
      "        0.0       0.99      0.99      0.99    353437\n",
      "        1.0       0.97      0.97      0.97     63959\n",
      "\n",
      "avg / total       0.99      0.99      0.99    417396\n",
      "\n"
     ]
    }
   ],
   "source": [
    "print(classification_report(y_pred,y_test))"
   ]
  },
  {
   "cell_type": "code",
   "execution_count": 45,
   "metadata": {},
   "outputs": [
    {
     "data": {
      "text/plain": [
       "array(['normal', 'Exploits', 'Reconnaissance', 'DoS', 'Generic',\n",
       "       'Shellcode', ' Fuzzers', 'Worms', 'Backdoors', 'Analysis',\n",
       "       ' Reconnaissance ', 'Backdoor', ' Fuzzers ', ' Shellcode '], dtype=object)"
      ]
     },
     "execution_count": 45,
     "metadata": {},
     "output_type": "execute_result"
    }
   ],
   "source": [
    "attact_cat.unique()"
   ]
  },
  {
   "cell_type": "code",
   "execution_count": 47,
   "metadata": {
    "collapsed": true
   },
   "outputs": [],
   "source": [
    "from sklearn.multiclass import OneVsRestClassifier\n",
    "# from sklearn.model_selection import trai"
   ]
  },
  {
   "cell_type": "code",
   "execution_count": 57,
   "metadata": {
    "collapsed": true
   },
   "outputs": [],
   "source": [
    "y = attact_cat.values\n",
    "seed = 125\n",
    "test_size = 0.2\n",
    "X_train, X_test, y_train, y_test = train_test_split(X, y, test_size=test_size, random_state=seed, stratify=y)"
   ]
  },
  {
   "cell_type": "code",
   "execution_count": 65,
   "metadata": {},
   "outputs": [
    {
     "data": {
      "text/plain": [
       "array([' Fuzzers', ' Fuzzers ', ' Reconnaissance ', ' Shellcode ',\n",
       "       'Analysis', 'Backdoor', 'Backdoors', 'DoS', 'Exploits', 'Generic',\n",
       "       'Reconnaissance', 'Shellcode', 'Worms', 'normal'], dtype=object)"
      ]
     },
     "execution_count": 65,
     "metadata": {},
     "output_type": "execute_result"
    }
   ],
   "source": [
    "np.unique(y_test)"
   ]
  },
  {
   "cell_type": "code",
   "execution_count": 61,
   "metadata": {},
   "outputs": [
    {
     "name": "stderr",
     "output_type": "stream",
     "text": [
      "[Parallel(n_jobs=10)]: Done   2 out of  10 | elapsed:   28.3s remaining:  1.9min\n",
      "[Parallel(n_jobs=10)]: Done  10 out of  10 | elapsed:  1.1min finished\n"
     ]
    },
    {
     "name": "stdout",
     "output_type": "stream",
     "text": [
      "BaggingClassifier(base_estimator=None, bootstrap=True,\n",
      "         bootstrap_features=False, max_features=1.0, max_samples=1.0,\n",
      "         n_estimators=10, n_jobs=-1, oob_score=False, random_state=None,\n",
      "         verbose=True, warm_start=False)\n",
      "Training in 66.26\n"
     ]
    },
    {
     "name": "stderr",
     "output_type": "stream",
     "text": [
      "[Parallel(n_jobs=10)]: Done   2 out of  10 | elapsed:    3.4s remaining:   13.6s\n",
      "[Parallel(n_jobs=10)]: Done  10 out of  10 | elapsed:   13.0s finished\n"
     ]
    },
    {
     "name": "stdout",
     "output_type": "stream",
     "text": [
      "                  precision    recall  f1-score   support\n",
      "\n",
      "         Fuzzers       0.76      0.63      0.69      1217\n",
      "        Fuzzers        0.68      0.71      0.69      3657\n",
      " Reconnaissance        0.77      0.90      0.83      2095\n",
      "      Shellcode        0.65      0.67      0.66       250\n",
      "        Analysis       0.12      0.59      0.20       106\n",
      "        Backdoor       0.13      0.92      0.22        50\n",
      "       Backdoors       0.02      0.17      0.03        12\n",
      "             DoS       0.28      0.33      0.30      2777\n",
      "        Exploits       0.79      0.63      0.70     11183\n",
      "         Generic       0.99      1.00      0.99     42628\n",
      "  Reconnaissance       0.88      0.92      0.90       339\n",
      "       Shellcode       0.50      0.58      0.54        38\n",
      "           Worms       0.46      0.67      0.54        24\n",
      "          normal       1.00      1.00      1.00    353020\n",
      "\n",
      "     avg / total       0.98      0.98      0.98    417396\n",
      "\n"
     ]
    }
   ],
   "source": [
    "#BAGGING TREE\n",
    "from sklearn.ensemble import BaggingClassifier\n",
    "model = BaggingClassifier(verbose=True, n_jobs=-1)\n",
    "start = time.time()\n",
    "model.fit(X_train, y_train)\n",
    "print model\n",
    "end = time.time()\n",
    "print 'Training in %.2f'%(end-start)\n",
    "y_pred = model.predict(X_test)\n",
    "#print confusion_matrix(y_true=y_test, y_pred=y_pred)\n",
    "print classification_report(y_pred,y_test)"
   ]
  },
  {
   "cell_type": "code",
   "execution_count": 62,
   "metadata": {},
   "outputs": [
    {
     "name": "stdout",
     "output_type": "stream",
     "text": [
      "RandomForestClassifier(bootstrap=True, class_weight=None, criterion='gini',\n",
      "            max_depth=None, max_features='auto', max_leaf_nodes=None,\n",
      "            min_impurity_decrease=0.0, min_impurity_split=None,\n",
      "            min_samples_leaf=1, min_samples_split=2,\n",
      "            min_weight_fraction_leaf=0.0, n_estimators=10, n_jobs=-1,\n",
      "            oob_score=False, random_state=None, verbose=True,\n",
      "            warm_start=False)\n"
     ]
    },
    {
     "name": "stderr",
     "output_type": "stream",
     "text": [
      "[Parallel(n_jobs=-1)]: Done   8 out of  10 | elapsed:    4.3s remaining:    1.1s\n",
      "[Parallel(n_jobs=-1)]: Done  10 out of  10 | elapsed:    4.6s finished\n"
     ]
    },
    {
     "name": "stdout",
     "output_type": "stream",
     "text": [
      "Training in 7.32\n"
     ]
    },
    {
     "name": "stderr",
     "output_type": "stream",
     "text": [
      "[Parallel(n_jobs=10)]: Done   2 out of  10 | elapsed:    0.2s remaining:    0.9s\n",
      "[Parallel(n_jobs=10)]: Done  10 out of  10 | elapsed:    0.3s finished\n"
     ]
    },
    {
     "name": "stdout",
     "output_type": "stream",
     "text": [
      "                  precision    recall  f1-score   support\n",
      "\n",
      "         Fuzzers       0.71      0.59      0.64      1213\n",
      "        Fuzzers        0.61      0.67      0.64      3498\n",
      " Reconnaissance        0.76      0.90      0.83      2070\n",
      "      Shellcode        0.53      0.57      0.55       244\n",
      "        Analysis       0.09      0.59      0.16        83\n",
      "        Backdoor       0.11      0.72      0.18        53\n",
      "       Backdoors       0.01      0.05      0.02        20\n",
      "             DoS       0.24      0.31      0.27      2609\n",
      "        Exploits       0.80      0.62      0.70     11410\n",
      "         Generic       0.98      1.00      0.99     42491\n",
      "  Reconnaissance       0.87      0.91      0.89       336\n",
      "       Shellcode       0.41      0.62      0.49        29\n",
      "           Worms       0.09      0.50      0.15         6\n",
      "          normal       1.00      1.00      1.00    353334\n",
      "\n",
      "     avg / total       0.98      0.98      0.98    417396\n",
      "\n"
     ]
    }
   ],
   "source": [
    "#RF\n",
    "from sklearn.ensemble import RandomForestClassifier\n",
    "model = RandomForestClassifier(verbose=True, n_jobs=-1)\n",
    "print model\n",
    "start = time.time()\n",
    "model.fit(X_train, y_train)\n",
    "end = time.time()\n",
    "print 'Training in %.2f'%(end-start)\n",
    "y_pred = model.predict(X_test)\n",
    "#print confusion_matrix(y_true=y_test, y_pred=y_pred)\n",
    "print classification_report(y_pred,y_test)"
   ]
  },
  {
   "cell_type": "code",
   "execution_count": 72,
   "metadata": {},
   "outputs": [
    {
     "name": "stdout",
     "output_type": "stream",
     "text": [
      "AdaBoostClassifier(algorithm='SAMME.R', base_estimator=None,\n",
      "          learning_rate=1.0, n_estimators=50, random_state=None)\n",
      "Training in 441.04\n",
      "                  precision    recall  f1-score   support\n",
      "\n",
      "         Fuzzers       0.08      0.56      0.14       140\n",
      "        Fuzzers        0.00      0.00      0.00         0\n",
      " Reconnaissance        0.00      0.00      0.00         0\n",
      "      Shellcode        0.00      0.00      0.00         0\n",
      "        Analysis       0.00      0.00      0.00       576\n",
      "        Backdoor       0.00      0.00      0.00         0\n",
      "       Backdoors       0.00      0.00      0.00         0\n",
      "             DoS       0.01      0.34      0.01        59\n",
      "        Exploits       0.84      0.51      0.64     14507\n",
      "         Generic       0.97      0.99      0.98     42201\n",
      "  Reconnaissance       0.00      0.00      0.00         0\n",
      "       Shellcode       0.00      0.00      0.00         0\n",
      "           Worms       0.11      0.00      0.00      1796\n",
      "          normal       0.99      0.98      0.99    358117\n",
      "\n",
      "     avg / total       0.98      0.96      0.97    417396\n",
      "\n"
     ]
    }
   ],
   "source": [
    "#RF\n",
    "from sklearn.ensemble import AdaBoostClassifier\n",
    "model = AdaBoostClassifier()\n",
    "print model\n",
    "start = time.time()\n",
    "model.fit(X_train, y_train)\n",
    "end = time.time()\n",
    "print 'Training in %.2f'%(end-start)\n",
    "y_pred = model.predict(X_test)\n",
    "#print confusion_matrix(y_true=y_test, y_pred=y_pred)\n",
    "print classification_report(y_pred,y_test)"
   ]
  },
  {
   "cell_type": "code",
   "execution_count": 69,
   "metadata": {},
   "outputs": [
    {
     "name": "stdout",
     "output_type": "stream",
     "text": [
      "XGBClassifier(base_score=0.5, colsample_bylevel=1, colsample_bytree=1,\n",
      "       gamma=0, learning_rate=0.1, max_delta_step=0, max_depth=3,\n",
      "       min_child_weight=1, missing=None, n_estimators=10, nthread=-1,\n",
      "       objective='multi:softprob', reg_alpha=0, reg_lambda=1,\n",
      "       scale_pos_weight=1, seed=0, silent=True, subsample=1)\n",
      "Training in 82.24\n",
      "[[   246      0      5      0      0      0      0      0    103      0\n",
      "      14      0      0    642]\n",
      " [     0    188     89      0      0      0      0    145    451     16\n",
      "       0      0      0   2950]\n",
      " [     0     28   1460      0      0      0      0    164    497      0\n",
      "       0      0      0    297]\n",
      " [     0      3    127      0      0      0      0      0     56      0\n",
      "       0      0      0     72]\n",
      " [    50      0      7      0      4      0      0    146    232      0\n",
      "       0      0      0     96]\n",
      " [     0      1     35      0      0      0      0    113    170      0\n",
      "       0      0      0     40]\n",
      " [    59      0      1      0      0      0      0      0     42      0\n",
      "       2      0      0      3]\n",
      " [    85     11    177      0      0      0      0    992   1751      1\n",
      "      15      0      0    239]\n",
      " [   166     26    247      0      0      0      0   1212   6489      0\n",
      "      46      0      0    719]\n",
      " [    13     31     56      0      1      0      0    135    693  41961\n",
      "      17      0      0    189]\n",
      " [    24      0    225      0      0      0      0      0     32      0\n",
      "      14      0      0     57]\n",
      " [     3      0     11      0      0      0      0      0      4      0\n",
      "      22      0      0      4]\n",
      " [     0      0      0      0      0      0      0      0     27      0\n",
      "       0      0      2      6]\n",
      " [    95    145    158      0      0      0      0      0    433      0\n",
      "       6      0      0 352302]]\n",
      "                  precision    recall  f1-score   support\n",
      "\n",
      "         Fuzzers       0.24      0.33      0.28       741\n",
      "        Fuzzers        0.05      0.43      0.09       433\n",
      " Reconnaissance        0.60      0.56      0.58      2598\n",
      "      Shellcode        0.00      0.00      0.00         0\n",
      "        Analysis       0.01      0.80      0.01         5\n",
      "        Backdoor       0.00      0.00      0.00         0\n",
      "       Backdoors       0.00      0.00      0.00         0\n",
      "             DoS       0.30      0.34      0.32      2907\n",
      "        Exploits       0.73      0.59      0.65     10980\n",
      "         Generic       0.97      1.00      0.99     41978\n",
      "  Reconnaissance       0.04      0.10      0.06       136\n",
      "       Shellcode       0.00      0.00      0.00         0\n",
      "           Worms       0.06      1.00      0.11         2\n",
      "          normal       1.00      0.99      0.99    357616\n",
      "\n",
      "     avg / total       0.98      0.97      0.97    417396\n",
      "\n"
     ]
    }
   ],
   "source": [
    "#XGBoost\n",
    "model = XGBClassifier(max_depth=3, n_estimators=10)\n",
    "start = time.time()\n",
    "model.fit(X_train, y_train)\n",
    "print model\n",
    "end = time.time()\n",
    "print 'Training in %.2f'%(end-start)\n",
    "y_pred = model.predict(X_test)\n",
    "print confusion_matrix(y_true=y_test, y_pred=y_pred)\n",
    "print classification_report(y_pred,y_test)"
   ]
  },
  {
   "cell_type": "code",
   "execution_count": 68,
   "metadata": {},
   "outputs": [
    {
     "data": {
      "text/plain": [
       "array([[   556,      0,      0,      0,      0,      0,      0,      2,\n",
       "           193,      3,      4,      1,      0,    251],\n",
       "       [     0,   1270,     11,     15,      0,      0,      0,     56,\n",
       "           339,      6,      0,      0,      0,   2142],\n",
       "       [     0,     10,   1875,      2,      0,      1,      0,     78,\n",
       "           472,      2,      0,      0,      0,      6],\n",
       "       [     0,     18,     16,    138,      0,      0,      0,      0,\n",
       "            23,      3,      0,      0,      0,     60],\n",
       "       [     1,      1,      0,      0,     15,      0,      0,     65,\n",
       "           363,      0,      0,      0,      0,     90],\n",
       "       [     0,      0,      0,      1,      0,     38,      0,     61,\n",
       "           253,      2,      0,      0,      0,      4],\n",
       "       [     5,      0,      0,      0,      0,      1,      0,      1,\n",
       "            97,      0,      2,      0,      0,      1],\n",
       "       [    14,     16,     15,     20,      0,      2,      0,    584,\n",
       "          2495,     40,      6,      7,      0,     72],\n",
       "       [    20,     67,    113,     26,      1,      1,      0,    466,\n",
       "          7814,     61,     27,      5,      6,    298],\n",
       "       [     1,     23,      7,     14,      6,      1,      0,     95,\n",
       "           535,  42346,      2,      1,      0,     65],\n",
       "       [     9,      0,      0,      0,      0,      0,      0,      0,\n",
       "            26,      0,    310,      0,      0,      7],\n",
       "       [     3,      0,      0,      0,      0,      0,      0,      0,\n",
       "             3,      1,      8,     21,      0,      8],\n",
       "       [     0,      2,      0,      0,      0,      0,      0,      0,\n",
       "            12,      0,      0,      0,     21,      0],\n",
       "       [   165,    425,      3,     17,      0,      2,      0,      7,\n",
       "           161,      6,      0,      0,      0, 352353]])"
      ]
     },
     "execution_count": 68,
     "metadata": {},
     "output_type": "execute_result"
    }
   ],
   "source": [
    "confusion_matrix(y_true=y_test, y_pred=y_pred)"
   ]
  },
  {
   "cell_type": "code",
   "execution_count": null,
   "metadata": {
    "collapsed": true
   },
   "outputs": [],
   "source": [
    "# start = time.time()\n",
    "# seed = 125\n",
    "# test_size = 0.3\n",
    "# X_train, X_test, y_train, y_test = train_test_split(X, y, test_size=test_size, random_state=seed)\n",
    "\n",
    "# fit model no training data\n",
    "# model = XGBClassifier()\n",
    "# model.fit(X_train, y_train)\n",
    "# end = time.time()\n",
    "# print 'Training in %.2f'%(end-start)"
   ]
  },
  {
   "cell_type": "code",
   "execution_count": null,
   "metadata": {
    "collapsed": true
   },
   "outputs": [],
   "source": [
    "y_pred = model.predict(X_test)"
   ]
  },
  {
   "cell_type": "code",
   "execution_count": null,
   "metadata": {
    "collapsed": true
   },
   "outputs": [],
   "source": [
    "print(classification_report(y_pred,y_test))"
   ]
  },
  {
   "cell_type": "code",
   "execution_count": null,
   "metadata": {
    "collapsed": true
   },
   "outputs": [],
   "source": [
    "print(classification_report(y_pred,y_test))"
   ]
  },
  {
   "cell_type": "code",
   "execution_count": null,
   "metadata": {
    "collapsed": true
   },
   "outputs": [],
   "source": []
  }
 ],
 "metadata": {
  "kernelspec": {
   "display_name": "Python 2",
   "language": "python",
   "name": "python2"
  },
  "language_info": {
   "codemirror_mode": {
    "name": "ipython",
    "version": 2
   },
   "file_extension": ".py",
   "mimetype": "text/x-python",
   "name": "python",
   "nbconvert_exporter": "python",
   "pygments_lexer": "ipython2",
   "version": "2.7.14"
  },
  "widgets": {
   "application/vnd.jupyter.widget-state+json": {
    "state": {},
    "version_major": 2,
    "version_minor": 0
   }
  }
 },
 "nbformat": 4,
 "nbformat_minor": 1
}

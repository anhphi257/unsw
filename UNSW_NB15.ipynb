{
 "cells": [
  {
   "cell_type": "code",
   "execution_count": 1,
   "metadata": {},
   "outputs": [
    {
     "name": "stderr",
     "output_type": "stream",
     "text": [
      "/home/phiha/anaconda2/lib/python2.7/site-packages/sklearn/cross_validation.py:41: DeprecationWarning: This module was deprecated in version 0.18 in favor of the model_selection module into which all the refactored classes and functions are moved. Also note that the interface of the new CV iterators are different from that of this module. This module will be removed in 0.20.\n",
      "  \"This module will be removed in 0.20.\", DeprecationWarning)\n"
     ]
    }
   ],
   "source": [
    "import numpy as np\n",
    "import pandas as pd\n",
    "from xgboost import XGBClassifier\n",
    "from sklearn.cross_validation import train_test_split\n",
    "from sklearn.metrics import confusion_matrix\n",
    "import os"
   ]
  },
  {
   "cell_type": "code",
   "execution_count": 2,
   "metadata": {
    "collapsed": true
   },
   "outputs": [],
   "source": [
    "data_features = pd.read_csv(os.path.join('data', 'NUSW-NB15_features.csv'), header=None).values\n",
    "features = data_features[1:, :]\n",
    "feature_names = features[:, 1]  # Names of the features in a list\n",
    "feature_types = np.array(\n",
    "    [item.lower() for item in features[:-2, 2]])  # The types of the corresponding features in 'features_names'"
   ]
  },
  {
   "cell_type": "code",
   "execution_count": 3,
   "metadata": {
    "collapsed": true
   },
   "outputs": [],
   "source": [
    "nominal_cols = np.where(feature_types == \"nominal\")[0]\n",
    "integer_cols = np.where(feature_types == \"integer\")[0]\n",
    "float_cols = np.where(feature_types == \"float\")[0]\n",
    "binary_cols = np.where(feature_types == \"binary\")[0]"
   ]
  },
  {
   "cell_type": "code",
   "execution_count": 4,
   "metadata": {},
   "outputs": [
    {
     "name": "stderr",
     "output_type": "stream",
     "text": [
      "/home/phiha/anaconda2/lib/python2.7/site-packages/IPython/core/interactiveshell.py:2718: DtypeWarning: Columns (1,3,47) have mixed types. Specify dtype option on import or set low_memory=False.\n",
      "  interactivity=interactivity, compiler=compiler, result=result)\n",
      "/home/phiha/anaconda2/lib/python2.7/site-packages/IPython/core/interactiveshell.py:2718: DtypeWarning: Columns (3,39,47) have mixed types. Specify dtype option on import or set low_memory=False.\n",
      "  interactivity=interactivity, compiler=compiler, result=result)\n"
     ]
    }
   ],
   "source": [
    "dataframe1 = pd.read_csv(os.path.join(\"data\",\"UNSW-NB15_1.csv\"), header=None)\n",
    "dataframe2 = pd.read_csv(os.path.join(\"data\",\"UNSW-NB15_2.csv\"), header=None)\n",
    "dataframe3 = pd.read_csv(os.path.join(\"data\",\"UNSW-NB15_3.csv\"), header=None)\n",
    "dataframe4 = pd.read_csv(os.path.join(\"data\",\"UNSW-NB15_4.csv\"), header=None)"
   ]
  },
  {
   "cell_type": "code",
   "execution_count": 5,
   "metadata": {},
   "outputs": [
    {
     "name": "stdout",
     "output_type": "stream",
     "text": [
      "Concatenating...\n"
     ]
    }
   ],
   "source": [
    "print('Concatenating...')\n",
    "dataframe = pd.concat([dataframe1, dataframe2, dataframe3, dataframe4])\n",
    "\n",
    "del dataframe1\n",
    "del dataframe2\n",
    "del dataframe3\n",
    "del dataframe4"
   ]
  },
  {
   "cell_type": "code",
   "execution_count": null,
   "metadata": {
    "collapsed": true
   },
   "outputs": [],
   "source": [
    "# dataframe.columns = feature_names"
   ]
  },
  {
   "cell_type": "code",
   "execution_count": null,
   "metadata": {
    "collapsed": true
   },
   "outputs": [],
   "source": [
    "#dataframe.service.value_counts()"
   ]
  },
  {
   "cell_type": "code",
   "execution_count": null,
   "metadata": {
    "collapsed": true
   },
   "outputs": [],
   "source": [
    "dataframe.columns[47]"
   ]
  },
  {
   "cell_type": "code",
   "execution_count": null,
   "metadata": {
    "collapsed": true
   },
   "outputs": [],
   "source": [
    "dataframe.iloc[:,13].unique()"
   ]
  },
  {
   "cell_type": "code",
   "execution_count": 6,
   "metadata": {
    "collapsed": true
   },
   "outputs": [],
   "source": [
    "dataframe[47].fillna(\"normal\", inplace=True)\n"
   ]
  },
  {
   "cell_type": "code",
   "execution_count": null,
   "metadata": {
    "collapsed": true
   },
   "outputs": [],
   "source": [
    "df2 = dataframe.iloc[-10:, 10:20]"
   ]
  },
  {
   "cell_type": "code",
   "execution_count": null,
   "metadata": {
    "collapsed": true
   },
   "outputs": [],
   "source": [
    "df2"
   ]
  },
  {
   "cell_type": "code",
   "execution_count": 7,
   "metadata": {
    "collapsed": true
   },
   "outputs": [],
   "source": [
    "attact_cat = dataframe.iloc[:, 47]\n",
    "labels = dataframe.iloc[:, 48]\n",
    "labels.fillna(0, inplace=True)\n",
    "dataframe = dataframe.iloc[:, :-2]"
   ]
  },
  {
   "cell_type": "code",
   "execution_count": 8,
   "metadata": {},
   "outputs": [
    {
     "data": {
      "text/plain": [
       "array(['normal', 'Exploits', 'Reconnaissance', 'DoS', 'Generic',\n",
       "       'Shellcode', 'Fuzzers', 'Worms', 'Backdoors', 'Analysis'], dtype=object)"
      ]
     },
     "execution_count": 8,
     "metadata": {},
     "output_type": "execute_result"
    }
   ],
   "source": [
    "my_dict = {\" Fuzzers\": \"Fuzzers\", ' Fuzzers ': 'Fuzzers',\n",
    "          'Backdoor' : 'Backdoors', ' Reconnaissance ': 'Reconnaissance', ' Shellcode ' : 'Shellcode'}\n",
    "attact_cat.replace(my_dict, inplace=True)\n",
    "attact_cat.unique()\n",
    "# ' Fuzzers', ' Fuzzers ', ' Reconnaissance ', ' Shellcode ',\n",
    "#         'Analysis', 'Backdoor', 'Backdoors', 'DoS', 'Exploits', 'Generic',\n",
    "#         'Reconnaissance', 'Shellcode', 'Worms', 'normal']"
   ]
  },
  {
   "cell_type": "code",
   "execution_count": 9,
   "metadata": {
    "collapsed": true
   },
   "outputs": [],
   "source": [
    "df = pd.get_dummies(dataframe, columns=nominal_cols[2:])\n",
    "df.replace(r'\\s+', np.nan, regex=True, inplace=True)\n",
    "df.drop(df.columns[[0,1,2,3]], axis=1, inplace=True)\n",
    "df.fillna(0, inplace=True)"
   ]
  },
  {
   "cell_type": "code",
   "execution_count": null,
   "metadata": {
    "collapsed": true
   },
   "outputs": [],
   "source": [
    "df.iloc[-10:,191:]"
   ]
  },
  {
   "cell_type": "code",
   "execution_count": 12,
   "metadata": {
    "collapsed": true
   },
   "outputs": [],
   "source": [
    "df1 = df.iloc[-10:,191:]"
   ]
  },
  {
   "cell_type": "code",
   "execution_count": 11,
   "metadata": {},
   "outputs": [
    {
     "data": {
      "text/html": [
       "<div>\n",
       "<style>\n",
       "    .dataframe thead tr:only-child th {\n",
       "        text-align: right;\n",
       "    }\n",
       "\n",
       "    .dataframe thead th {\n",
       "        text-align: left;\n",
       "    }\n",
       "\n",
       "    .dataframe tbody tr th {\n",
       "        vertical-align: top;\n",
       "    }\n",
       "</style>\n",
       "<table border=\"1\" class=\"dataframe\">\n",
       "  <thead>\n",
       "    <tr style=\"text-align: right;\">\n",
       "      <th></th>\n",
       "      <th>srv_-</th>\n",
       "      <th>srv_dhcp</th>\n",
       "      <th>srv_dns</th>\n",
       "      <th>srv_ftp</th>\n",
       "      <th>srv_ftp-data</th>\n",
       "      <th>srv_http</th>\n",
       "      <th>srv_irc</th>\n",
       "      <th>srv_pop3</th>\n",
       "      <th>srv_radius</th>\n",
       "      <th>srv_smtp</th>\n",
       "      <th>srv_snmp</th>\n",
       "      <th>srv_ssh</th>\n",
       "      <th>srv_ssl</th>\n",
       "    </tr>\n",
       "  </thead>\n",
       "  <tbody>\n",
       "    <tr>\n",
       "      <th>440034</th>\n",
       "      <td>1</td>\n",
       "      <td>0</td>\n",
       "      <td>0</td>\n",
       "      <td>0</td>\n",
       "      <td>0</td>\n",
       "      <td>0</td>\n",
       "      <td>0</td>\n",
       "      <td>0</td>\n",
       "      <td>0</td>\n",
       "      <td>0</td>\n",
       "      <td>0</td>\n",
       "      <td>0</td>\n",
       "      <td>0</td>\n",
       "    </tr>\n",
       "    <tr>\n",
       "      <th>440035</th>\n",
       "      <td>1</td>\n",
       "      <td>0</td>\n",
       "      <td>0</td>\n",
       "      <td>0</td>\n",
       "      <td>0</td>\n",
       "      <td>0</td>\n",
       "      <td>0</td>\n",
       "      <td>0</td>\n",
       "      <td>0</td>\n",
       "      <td>0</td>\n",
       "      <td>0</td>\n",
       "      <td>0</td>\n",
       "      <td>0</td>\n",
       "    </tr>\n",
       "    <tr>\n",
       "      <th>440036</th>\n",
       "      <td>0</td>\n",
       "      <td>0</td>\n",
       "      <td>0</td>\n",
       "      <td>0</td>\n",
       "      <td>0</td>\n",
       "      <td>1</td>\n",
       "      <td>0</td>\n",
       "      <td>0</td>\n",
       "      <td>0</td>\n",
       "      <td>0</td>\n",
       "      <td>0</td>\n",
       "      <td>0</td>\n",
       "      <td>0</td>\n",
       "    </tr>\n",
       "    <tr>\n",
       "      <th>440037</th>\n",
       "      <td>0</td>\n",
       "      <td>0</td>\n",
       "      <td>0</td>\n",
       "      <td>1</td>\n",
       "      <td>0</td>\n",
       "      <td>0</td>\n",
       "      <td>0</td>\n",
       "      <td>0</td>\n",
       "      <td>0</td>\n",
       "      <td>0</td>\n",
       "      <td>0</td>\n",
       "      <td>0</td>\n",
       "      <td>0</td>\n",
       "    </tr>\n",
       "    <tr>\n",
       "      <th>440038</th>\n",
       "      <td>1</td>\n",
       "      <td>0</td>\n",
       "      <td>0</td>\n",
       "      <td>0</td>\n",
       "      <td>0</td>\n",
       "      <td>0</td>\n",
       "      <td>0</td>\n",
       "      <td>0</td>\n",
       "      <td>0</td>\n",
       "      <td>0</td>\n",
       "      <td>0</td>\n",
       "      <td>0</td>\n",
       "      <td>0</td>\n",
       "    </tr>\n",
       "    <tr>\n",
       "      <th>440039</th>\n",
       "      <td>0</td>\n",
       "      <td>0</td>\n",
       "      <td>0</td>\n",
       "      <td>0</td>\n",
       "      <td>1</td>\n",
       "      <td>0</td>\n",
       "      <td>0</td>\n",
       "      <td>0</td>\n",
       "      <td>0</td>\n",
       "      <td>0</td>\n",
       "      <td>0</td>\n",
       "      <td>0</td>\n",
       "      <td>0</td>\n",
       "    </tr>\n",
       "    <tr>\n",
       "      <th>440040</th>\n",
       "      <td>0</td>\n",
       "      <td>0</td>\n",
       "      <td>0</td>\n",
       "      <td>1</td>\n",
       "      <td>0</td>\n",
       "      <td>0</td>\n",
       "      <td>0</td>\n",
       "      <td>0</td>\n",
       "      <td>0</td>\n",
       "      <td>0</td>\n",
       "      <td>0</td>\n",
       "      <td>0</td>\n",
       "      <td>0</td>\n",
       "    </tr>\n",
       "    <tr>\n",
       "      <th>440041</th>\n",
       "      <td>0</td>\n",
       "      <td>0</td>\n",
       "      <td>0</td>\n",
       "      <td>1</td>\n",
       "      <td>0</td>\n",
       "      <td>0</td>\n",
       "      <td>0</td>\n",
       "      <td>0</td>\n",
       "      <td>0</td>\n",
       "      <td>0</td>\n",
       "      <td>0</td>\n",
       "      <td>0</td>\n",
       "      <td>0</td>\n",
       "    </tr>\n",
       "    <tr>\n",
       "      <th>440042</th>\n",
       "      <td>0</td>\n",
       "      <td>0</td>\n",
       "      <td>0</td>\n",
       "      <td>0</td>\n",
       "      <td>0</td>\n",
       "      <td>1</td>\n",
       "      <td>0</td>\n",
       "      <td>0</td>\n",
       "      <td>0</td>\n",
       "      <td>0</td>\n",
       "      <td>0</td>\n",
       "      <td>0</td>\n",
       "      <td>0</td>\n",
       "    </tr>\n",
       "    <tr>\n",
       "      <th>440043</th>\n",
       "      <td>0</td>\n",
       "      <td>0</td>\n",
       "      <td>0</td>\n",
       "      <td>0</td>\n",
       "      <td>0</td>\n",
       "      <td>0</td>\n",
       "      <td>0</td>\n",
       "      <td>1</td>\n",
       "      <td>0</td>\n",
       "      <td>0</td>\n",
       "      <td>0</td>\n",
       "      <td>0</td>\n",
       "      <td>0</td>\n",
       "    </tr>\n",
       "  </tbody>\n",
       "</table>\n",
       "</div>"
      ],
      "text/plain": [
       "        srv_-  srv_dhcp  srv_dns  srv_ftp  srv_ftp-data  srv_http  srv_irc  \\\n",
       "440034      1         0        0        0             0         0        0   \n",
       "440035      1         0        0        0             0         0        0   \n",
       "440036      0         0        0        0             0         1        0   \n",
       "440037      0         0        0        1             0         0        0   \n",
       "440038      1         0        0        0             0         0        0   \n",
       "440039      0         0        0        0             1         0        0   \n",
       "440040      0         0        0        1             0         0        0   \n",
       "440041      0         0        0        1             0         0        0   \n",
       "440042      0         0        0        0             0         1        0   \n",
       "440043      0         0        0        0             0         0        0   \n",
       "\n",
       "        srv_pop3  srv_radius  srv_smtp  srv_snmp  srv_ssh  srv_ssl  \n",
       "440034         0           0         0         0        0        0  \n",
       "440035         0           0         0         0        0        0  \n",
       "440036         0           0         0         0        0        0  \n",
       "440037         0           0         0         0        0        0  \n",
       "440038         0           0         0         0        0        0  \n",
       "440039         0           0         0         0        0        0  \n",
       "440040         0           0         0         0        0        0  \n",
       "440041         0           0         0         0        0        0  \n",
       "440042         0           0         0         0        0        0  \n",
       "440043         1           0         0         0        0        0  "
      ]
     },
     "execution_count": 11,
     "metadata": {},
     "output_type": "execute_result"
    }
   ],
   "source": [
    "import re\n",
    "df1.rename(columns=lambda x: re.sub('13','srv',x))"
   ]
  },
  {
   "cell_type": "code",
   "execution_count": null,
   "metadata": {
    "collapsed": true
   },
   "outputs": [],
   "source": []
  },
  {
   "cell_type": "code",
   "execution_count": null,
   "metadata": {
    "collapsed": true
   },
   "outputs": [],
   "source": []
  },
  {
   "cell_type": "code",
   "execution_count": null,
   "metadata": {
    "collapsed": true
   },
   "outputs": [],
   "source": []
  },
  {
   "cell_type": "code",
   "execution_count": 26,
   "metadata": {
    "collapsed": true
   },
   "outputs": [],
   "source": [
    "import time"
   ]
  },
  {
   "cell_type": "code",
   "execution_count": null,
   "metadata": {
    "collapsed": true
   },
   "outputs": [],
   "source": []
  },
  {
   "cell_type": "code",
   "execution_count": 13,
   "metadata": {
    "collapsed": true
   },
   "outputs": [],
   "source": [
    "X = df.astype(np.float64)"
   ]
  },
  {
   "cell_type": "code",
   "execution_count": 14,
   "metadata": {},
   "outputs": [
    {
     "data": {
      "text/plain": [
       "(2086976, 204)"
      ]
     },
     "execution_count": 14,
     "metadata": {},
     "output_type": "execute_result"
    }
   ],
   "source": [
    "X.shape"
   ]
  },
  {
   "cell_type": "code",
   "execution_count": 15,
   "metadata": {
    "collapsed": true
   },
   "outputs": [],
   "source": [
    "y = labels.astype(np.float64)"
   ]
  },
  {
   "cell_type": "code",
   "execution_count": 16,
   "metadata": {},
   "outputs": [
    {
     "data": {
      "text/plain": [
       "(2086976,)"
      ]
     },
     "execution_count": 16,
     "metadata": {},
     "output_type": "execute_result"
    }
   ],
   "source": [
    "y.shape"
   ]
  },
  {
   "cell_type": "code",
   "execution_count": 15,
   "metadata": {},
   "outputs": [
    {
     "ename": "NameError",
     "evalue": "name 'X' is not defined",
     "output_type": "error",
     "traceback": [
      "\u001b[0;31m\u001b[0m",
      "\u001b[0;31mNameError\u001b[0mTraceback (most recent call last)",
      "\u001b[0;32m<ipython-input-15-4b366a0c0b40>\u001b[0m in \u001b[0;36m<module>\u001b[0;34m()\u001b[0m\n\u001b[1;32m      1\u001b[0m \u001b[0mseed\u001b[0m \u001b[0;34m=\u001b[0m \u001b[0;36m125\u001b[0m\u001b[0;34m\u001b[0m\u001b[0m\n\u001b[1;32m      2\u001b[0m \u001b[0mtest_size\u001b[0m \u001b[0;34m=\u001b[0m \u001b[0;36m0.2\u001b[0m\u001b[0;34m\u001b[0m\u001b[0m\n\u001b[0;32m----> 3\u001b[0;31m \u001b[0mX_train\u001b[0m\u001b[0;34m,\u001b[0m \u001b[0mX_test\u001b[0m\u001b[0;34m,\u001b[0m \u001b[0my_train\u001b[0m\u001b[0;34m,\u001b[0m \u001b[0my_test\u001b[0m \u001b[0;34m=\u001b[0m \u001b[0mtrain_test_split\u001b[0m\u001b[0;34m(\u001b[0m\u001b[0mX\u001b[0m\u001b[0;34m,\u001b[0m \u001b[0my\u001b[0m\u001b[0;34m,\u001b[0m \u001b[0mtest_size\u001b[0m\u001b[0;34m=\u001b[0m\u001b[0mtest_size\u001b[0m\u001b[0;34m,\u001b[0m \u001b[0mrandom_state\u001b[0m\u001b[0;34m=\u001b[0m\u001b[0mseed\u001b[0m\u001b[0;34m,\u001b[0m \u001b[0mstratify\u001b[0m\u001b[0;34m=\u001b[0m\u001b[0my\u001b[0m\u001b[0;34m)\u001b[0m\u001b[0;34m\u001b[0m\u001b[0m\n\u001b[0m\u001b[1;32m      4\u001b[0m \u001b[0;31m# fit model no training data\u001b[0m\u001b[0;34m\u001b[0m\u001b[0;34m\u001b[0m\u001b[0m\n",
      "\u001b[0;31mNameError\u001b[0m: name 'X' is not defined"
     ]
    }
   ],
   "source": [
    "seed = 125\n",
    "test_size = 0.2\n",
    "X_train, X_test, y_train, y_test = train_test_split(X, y, test_size=test_size, random_state=seed, stratify=y)\n",
    "# fit model no training data\n"
   ]
  },
  {
   "cell_type": "code",
   "execution_count": null,
   "metadata": {
    "collapsed": true
   },
   "outputs": [],
   "source": [
    "#BAGGING TREE\n",
    "from sklearn.ensemble import BaggingClassifier\n",
    "model = BaggingClassifier()\n",
    "start = time.time()\n",
    "model.fit(X_train, y_train)\n",
    "end = time.time()\n",
    "print 'Training in %.2f'%(end-start)\n",
    "y_pred = model.predict(X_test)\n",
    "print confusion_matrix(y_true=y_test, y_pred=y_pred)"
   ]
  },
  {
   "cell_type": "code",
   "execution_count": null,
   "metadata": {
    "collapsed": true
   },
   "outputs": [],
   "source": [
    "#RF\n",
    "from sklearn.ensemble import RandomForestClassifier\n",
    "model = RandomForestClassifier()\n",
    "start = time.time()\n",
    "model.fit(X_train, y_train)\n",
    "end = time.time()\n",
    "print 'Training in %.2f'%(end-start)\n",
    "y_pred = model.predict(X_test)\n",
    "print confusion_matrix(y_true=y_test, y_pred=y_pred)"
   ]
  },
  {
   "cell_type": "code",
   "execution_count": null,
   "metadata": {
    "collapsed": true
   },
   "outputs": [],
   "source": [
    "model = XGBClassifier()\n",
    "start = time.time()\n",
    "model.fit(X_train, y_train)\n",
    "end = time.time()\n",
    "print 'Training in %.2f'%(end-start)"
   ]
  },
  {
   "cell_type": "code",
   "execution_count": null,
   "metadata": {
    "collapsed": true
   },
   "outputs": [],
   "source": [
    "y_pred = model.predict(X_test)"
   ]
  },
  {
   "cell_type": "code",
   "execution_count": null,
   "metadata": {
    "collapsed": true
   },
   "outputs": [],
   "source": []
  },
  {
   "cell_type": "code",
   "execution_count": null,
   "metadata": {
    "collapsed": true
   },
   "outputs": [],
   "source": [
    "print confusion_matrix(y_true=y_test, y_pred=y_pred)"
   ]
  },
  {
   "cell_type": "code",
   "execution_count": 28,
   "metadata": {
    "collapsed": true
   },
   "outputs": [],
   "source": [
    "from sklearn.metrics import classification_report\n"
   ]
  },
  {
   "cell_type": "code",
   "execution_count": null,
   "metadata": {
    "collapsed": true
   },
   "outputs": [],
   "source": [
    "print(classification_report(y_pred,y_test))"
   ]
  },
  {
   "cell_type": "code",
   "execution_count": null,
   "metadata": {
    "collapsed": true
   },
   "outputs": [],
   "source": []
  },
  {
   "cell_type": "code",
   "execution_count": null,
   "metadata": {
    "collapsed": true
   },
   "outputs": [],
   "source": [
    "from sklearn.multiclass import OneVsRestClassifier\n",
    "# from sklearn.model_selection import trai"
   ]
  },
  {
   "cell_type": "code",
   "execution_count": 18,
   "metadata": {
    "collapsed": true
   },
   "outputs": [],
   "source": [
    "y = attact_cat.values\n",
    "seed = 125\n",
    "test_size = 0.2\n",
    "X_train, X_test, y_train, y_test = train_test_split(X, y, test_size=test_size, random_state=seed, stratify=y)"
   ]
  },
  {
   "cell_type": "code",
   "execution_count": 19,
   "metadata": {},
   "outputs": [
    {
     "data": {
      "text/plain": [
       "(array(['Analysis', 'Backdoors', 'DoS', 'Exploits', 'Fuzzers', 'Generic',\n",
       "        'Reconnaissance', 'Shellcode', 'Worms', 'normal'], dtype=object),\n",
       " array([   2142,    1863,   13082,   35620,   19397,  172385,   11189,\n",
       "           1209,     139, 1412554]))"
      ]
     },
     "execution_count": 19,
     "metadata": {},
     "output_type": "execute_result"
    }
   ],
   "source": [
    "np.unique(y_train, return_counts=True)"
   ]
  },
  {
   "cell_type": "code",
   "execution_count": 20,
   "metadata": {},
   "outputs": [
    {
     "data": {
      "text/plain": [
       "(array(['Analysis', 'Backdoors', 'DoS', 'Exploits', 'Fuzzers', 'Generic',\n",
       "        'Reconnaissance', 'Shellcode', 'Worms', 'normal'], dtype=object),\n",
       " array([   535,    466,   3271,   8905,   4849,  43096,   2798,    302,\n",
       "            35, 353139]))"
      ]
     },
     "execution_count": 20,
     "metadata": {},
     "output_type": "execute_result"
    }
   ],
   "source": [
    "np.unique(y_test, return_counts=True)"
   ]
  },
  {
   "cell_type": "code",
   "execution_count": null,
   "metadata": {
    "collapsed": true
   },
   "outputs": [],
   "source": [
    "#BAGGING TREE\n",
    "from sklearn.ensemble import BaggingClassifier\n",
    "model = BaggingClassifier(verbose=True, n_jobs=-1)\n",
    "start = time.time()\n",
    "model.fit(X_train, y_train)\n",
    "print model\n",
    "end = time.time()\n",
    "print 'Training in %.2f'%(end-start)\n",
    "y_pred = model.predict(X_test)\n",
    "#print confusion_matrix(y_true=y_test, y_pred=y_pred)\n",
    "print classification_report(y_pred,y_test)"
   ]
  },
  {
   "cell_type": "code",
   "execution_count": null,
   "metadata": {
    "collapsed": true
   },
   "outputs": [],
   "source": [
    "#RF\n",
    "from sklearn.ensemble import RandomForestClassifier\n",
    "model = RandomForestClassifier(verbose=True, n_jobs=-1)\n",
    "print model\n",
    "start = time.time()\n",
    "model.fit(X_train, y_train)\n",
    "end = time.time()\n",
    "print 'Training in %.2f'%(end-start)\n",
    "y_pred = model.predict(X_test)\n",
    "#print confusion_matrix(y_true=y_test, y_pred=y_pred)\n",
    "print classification_report(y_pred,y_test)"
   ]
  },
  {
   "cell_type": "code",
   "execution_count": null,
   "metadata": {
    "collapsed": true
   },
   "outputs": [],
   "source": [
    "#RF\n",
    "from sklearn.ensemble import AdaBoostClassifier\n",
    "model = AdaBoostClassifier()\n",
    "print model\n",
    "start = time.time()\n",
    "model.fit(X_train, y_train)\n",
    "end = time.time()\n",
    "print 'Training in %.2f'%(end-start)\n",
    "y_pred = model.predict(X_test)\n",
    "#print confusion_matrix(y_true=y_test, y_pred=y_pred)\n",
    "print classification_report(y_pred,y_test)"
   ]
  },
  {
   "cell_type": "code",
   "execution_count": 36,
   "metadata": {},
   "outputs": [
    {
     "name": "stdout",
     "output_type": "stream",
     "text": [
      "[[    20      0     65    340      1      2      0      0      0    107]\n",
      " [     0     47     65    334      5      1      3      4      0      7]\n",
      " [     0      0    665   2451     26     28     18     25      0     58]\n",
      " [     0      1    536   7818     79     64    122     29      4    252]\n",
      " [     0      0     78    511   2335      7      8     18      0   1892]\n",
      " [     5      2     94    517     31  42379      2     10      2     54]\n",
      " [     0      0     90    552      7      2   2136      2      0      9]\n",
      " [     0      0      2     37     14      2     15    185      0     47]\n",
      " [     0      0      0      5      1      2      1      0     25      1]\n",
      " [     1      2      3    102    737      9      6     25      0 352254]]\n",
      "                precision    recall  f1-score   support\n",
      "\n",
      "      Analysis       0.04      0.77      0.07        26\n",
      "     Backdoors       0.10      0.90      0.18        52\n",
      "           DoS       0.20      0.42      0.27      1598\n",
      "      Exploits       0.88      0.62      0.72     12667\n",
      "       Fuzzers       0.48      0.72      0.58      3236\n",
      "       Generic       0.98      1.00      0.99     42496\n",
      "Reconnaissance       0.76      0.92      0.84      2311\n",
      "     Shellcode       0.61      0.62      0.62       298\n",
      "         Worms       0.71      0.81      0.76        31\n",
      "        normal       1.00      0.99      1.00    354681\n",
      "\n",
      "   avg / total       0.98      0.98      0.98    417396\n",
      "\n"
     ]
    }
   ],
   "source": [
    "#XGBoost\n",
    "# model = XGBClassifier(n_estimators=100, max_depth=6)\n",
    "# start = time.time()\n",
    "# model.fit(X_train, y_train)\n",
    "# print model\n",
    "# end = time.time()\n",
    "# print 'Training in %.2f'%(end-start)\n",
    "y_pred = model.predict(X_test)\n",
    "print confusion_matrix(y_true=y_test, y_pred=y_pred)\n",
    "print classification_report(y_pred,y_test)"
   ]
  },
  {
   "cell_type": "code",
   "execution_count": 34,
   "metadata": {},
   "outputs": [
    {
     "name": "stdout",
     "output_type": "stream",
     "text": [
      "XGBClassifier(base_score=0.5, colsample_bylevel=1, colsample_bytree=1,\n",
      "       gamma=0, learning_rate=0.1, max_delta_step=0, max_depth=6,\n",
      "       min_child_weight=1, missing=None, n_estimators=100, nthread=-1,\n",
      "       objective='multi:softprob', reg_alpha=0, reg_lambda=1,\n",
      "       scale_pos_weight=1, seed=0, silent=True, subsample=1)\n",
      "Training in 499.17\n",
      "[[    12      0      1    413      1      0      2      0      0    106]\n",
      " [     0     16      2    413      5      1      6      0      0     23]\n",
      " [     0      0     40   3051     26     11     36     17      0     90]\n",
      " [     0      0     30   8191    108     34    158     14      1    369]\n",
      " [     1      0      0    653   1895      5     17      9      0   2269]\n",
      " [     5      0      5    791     50  42126      8      4      0    107]\n",
      " [     0      0      2    643     12      2   2116      2      0     21]\n",
      " [     0      0      0     71     16      1     42    102      0     70]\n",
      " [     0      0      0     18      2      1      0      0     11      3]\n",
      " [     1      0      8    250    836      5     14     18      0 352007]]\n",
      "                precision    recall  f1-score   support\n",
      "\n",
      "      Analysis       0.02      0.63      0.04        19\n",
      "     Backdoors       0.03      1.00      0.07        16\n",
      "           DoS       0.01      0.45      0.02        88\n",
      "      Exploits       0.92      0.57      0.70     14494\n",
      "       Fuzzers       0.39      0.64      0.49      2951\n",
      "       Generic       0.98      1.00      0.99     42186\n",
      "Reconnaissance       0.76      0.88      0.81      2399\n",
      "     Shellcode       0.34      0.61      0.44       166\n",
      "         Worms       0.31      0.92      0.47        12\n",
      "        normal       1.00      0.99      0.99    355065\n",
      "\n",
      "   avg / total       0.99      0.97      0.98    417396\n",
      "\n"
     ]
    }
   ],
   "source": [
    "#XGBoost\n",
    "model1 = XGBClassifier()\n",
    "start = time.time()\n",
    "model1.fit(X_train, y_train)\n",
    "print model\n",
    "end = time.time()\n",
    "print 'Training in %.2f'%(end-start)\n",
    "y_pred = model1.predict(X_test)\n",
    "print confusion_matrix(y_true=y_test, y_pred=y_pred)\n",
    "print classification_report(y_pred,y_test)"
   ]
  },
  {
   "cell_type": "code",
   "execution_count": null,
   "metadata": {
    "collapsed": true
   },
   "outputs": [],
   "source": []
  },
  {
   "cell_type": "code",
   "execution_count": 17,
   "metadata": {
    "collapsed": true
   },
   "outputs": [],
   "source": [
    "from sklearn.model_selection import GridSearchCV"
   ]
  },
  {
   "cell_type": "code",
   "execution_count": 21,
   "metadata": {
    "collapsed": true
   },
   "outputs": [],
   "source": [
    "_, X_sample, _, y_sample = train_test_split(X_train, y_train, test_size=0.1, random_state=452, stratify=y_train)"
   ]
  },
  {
   "cell_type": "code",
   "execution_count": null,
   "metadata": {},
   "outputs": [
    {
     "name": "stdout",
     "output_type": "stream",
     "text": [
      "Fitting 3 folds for each of 20 candidates, totalling 60 fits\n",
      "[CV] n_estimators=10, max_depth=3 ....................................\n",
      "[CV] n_estimators=10, max_depth=3 ....................................\n",
      "[CV] n_estimators=10, max_depth=3 ....................................\n",
      "[CV] n_estimators=20, max_depth=3 ....................................\n",
      "[CV] n_estimators=20, max_depth=3 ....................................\n",
      "[CV] n_estimators=20, max_depth=3 ....................................\n",
      "[CV] n_estimators=50, max_depth=3 ....................................\n",
      "[CV] n_estimators=50, max_depth=3 ....................................\n",
      "[CV] n_estimators=50, max_depth=3 ....................................\n",
      "[CV] n_estimators=100, max_depth=3 ...................................\n",
      "[CV] n_estimators=100, max_depth=3 ...................................\n",
      "[CV] n_estimators=100, max_depth=3 ...................................\n",
      "[CV] n_estimators=200, max_depth=3 ...................................\n",
      "[CV] n_estimators=200, max_depth=3 ...................................\n",
      "[CV] n_estimators=200, max_depth=3 ...................................\n",
      "[CV] n_estimators=10, max_depth=6 ....................................\n",
      "[CV] n_estimators=10, max_depth=6 ....................................\n",
      "[CV] n_estimators=10, max_depth=6 ....................................\n",
      "[CV] n_estimators=20, max_depth=6 ....................................\n",
      "[CV] n_estimators=20, max_depth=6 ....................................\n",
      "[CV] n_estimators=20, max_depth=6 ....................................\n",
      "[CV] n_estimators=50, max_depth=6 ....................................\n",
      "[CV] n_estimators=50, max_depth=6 ....................................\n",
      "[CV] n_estimators=50, max_depth=6 ....................................\n",
      "[CV] n_estimators=100, max_depth=6 ...................................\n",
      "[CV] n_estimators=100, max_depth=6 ...................................\n",
      "[CV] n_estimators=100, max_depth=6 ...................................\n",
      "[CV] n_estimators=200, max_depth=6 ...................................\n",
      "[CV] n_estimators=200, max_depth=6 ...................................\n",
      "[CV] n_estimators=200, max_depth=6 ...................................\n",
      "[CV] n_estimators=10, max_depth=9 ....................................\n",
      "[CV] n_estimators=10, max_depth=9 ....................................\n",
      "[CV] n_estimators=10, max_depth=9 ....................................\n",
      "[CV] n_estimators=20, max_depth=9 ....................................\n",
      "[CV] n_estimators=20, max_depth=9 ....................................\n",
      "[CV] n_estimators=20, max_depth=9 ....................................\n",
      "[CV] n_estimators=50, max_depth=9 ....................................\n",
      "[CV] n_estimators=50, max_depth=9 ....................................\n",
      "[CV] n_estimators=50, max_depth=9 ....................................\n",
      "[CV] n_estimators=100, max_depth=9 ...................................\n",
      "[CV] n_estimators=100, max_depth=9 ...................................\n",
      "[CV] n_estimators=100, max_depth=9 ...................................\n",
      "[CV] n_estimators=200, max_depth=9 ...................................\n",
      "[CV] n_estimators=200, max_depth=9 ...................................\n",
      "[CV] n_estimators=200, max_depth=9 ...................................\n",
      "[CV] n_estimators=10, max_depth=12 ...................................\n",
      "[CV] n_estimators=10, max_depth=12 ...................................\n",
      "[CV] n_estimators=10, max_depth=12 ...................................\n",
      "[CV] n_estimators=20, max_depth=12 ...................................\n",
      "[CV] n_estimators=20, max_depth=12 ...................................\n",
      "[CV] n_estimators=20, max_depth=12 ...................................\n",
      "[CV] n_estimators=50, max_depth=12 ...................................\n",
      "[CV] n_estimators=50, max_depth=12 ...................................\n",
      "[CV] n_estimators=50, max_depth=12 ...................................\n",
      "[CV] n_estimators=100, max_depth=12 ..................................\n",
      "[CV] n_estimators=100, max_depth=12 ..................................\n",
      "[CV] n_estimators=100, max_depth=12 ..................................\n",
      "[CV] n_estimators=200, max_depth=12 ..................................\n",
      "[CV] n_estimators=200, max_depth=12 ..................................\n",
      "[CV] n_estimators=200, max_depth=12 ..................................\n"
     ]
    },
    {
     "name": "stderr",
     "output_type": "stream",
     "text": [
      "/home/phiha/anaconda2/lib/python2.7/site-packages/sklearn/metrics/classification.py:1135: UndefinedMetricWarning: F-score is ill-defined and being set to 0.0 in labels with no predicted samples.\n",
      "  'precision', 'predicted', average, warn_for)\n"
     ]
    },
    {
     "name": "stdout",
     "output_type": "stream",
     "text": [
      "[CV] .................... n_estimators=10, max_depth=12, total= 2.0min\n"
     ]
    },
    {
     "name": "stderr",
     "output_type": "stream",
     "text": [
      "/home/phiha/anaconda2/lib/python2.7/site-packages/sklearn/metrics/classification.py:1135: UndefinedMetricWarning: F-score is ill-defined and being set to 0.0 in labels with no predicted samples.\n",
      "  'precision', 'predicted', average, warn_for)\n",
      "/home/phiha/anaconda2/lib/python2.7/site-packages/sklearn/metrics/classification.py:1135: UndefinedMetricWarning: F-score is ill-defined and being set to 0.0 in labels with no predicted samples.\n",
      "  'precision', 'predicted', average, warn_for)\n"
     ]
    },
    {
     "name": "stdout",
     "output_type": "stream",
     "text": [
      "[CV] .................... n_estimators=10, max_depth=12, total= 2.1min\n",
      "[CV] .................... n_estimators=10, max_depth=12, total= 2.1min\n"
     ]
    },
    {
     "name": "stderr",
     "output_type": "stream",
     "text": [
      "/home/phiha/anaconda2/lib/python2.7/site-packages/sklearn/metrics/classification.py:1135: UndefinedMetricWarning: F-score is ill-defined and being set to 0.0 in labels with no predicted samples.\n",
      "  'precision', 'predicted', average, warn_for)\n"
     ]
    },
    {
     "name": "stdout",
     "output_type": "stream",
     "text": [
      "[CV] .................... n_estimators=20, max_depth=12, total= 3.7min\n"
     ]
    },
    {
     "name": "stderr",
     "output_type": "stream",
     "text": [
      "/home/phiha/anaconda2/lib/python2.7/site-packages/sklearn/metrics/classification.py:1135: UndefinedMetricWarning: F-score is ill-defined and being set to 0.0 in labels with no predicted samples.\n",
      "  'precision', 'predicted', average, warn_for)\n",
      "/home/phiha/anaconda2/lib/python2.7/site-packages/sklearn/metrics/classification.py:1135: UndefinedMetricWarning: F-score is ill-defined and being set to 0.0 in labels with no predicted samples.\n",
      "  'precision', 'predicted', average, warn_for)\n"
     ]
    },
    {
     "name": "stdout",
     "output_type": "stream",
     "text": [
      "[CV] .................... n_estimators=20, max_depth=12, total= 3.8min\n",
      "[CV] .................... n_estimators=20, max_depth=12, total= 3.8min\n"
     ]
    }
   ],
   "source": [
    "#grid search\n",
    "alg = XGBClassifier()\n",
    "clf = GridSearchCV(alg,{'max_depth': [3,6,9,12],\n",
    "                    'n_estimators': [10, 20, 50,100,200],\n",
    "                       }, \n",
    "                    verbose=2, \n",
    "                    scoring='f1_macro', n_jobs = -1)\n",
    "\n",
    "clf.fit(X_sample,y_sample)\n",
    "clf.best_score_, clf.best_params_"
   ]
  },
  {
   "cell_type": "code",
   "execution_count": 23,
   "metadata": {},
   "outputs": [
    {
     "data": {
      "text/plain": [
       "(0.97503563770529111, {'max_depth': 6, 'n_estimators': 100})"
      ]
     },
     "execution_count": 23,
     "metadata": {},
     "output_type": "execute_result"
    }
   ],
   "source": [
    "cl"
   ]
  },
  {
   "cell_type": "code",
   "execution_count": null,
   "metadata": {
    "collapsed": true
   },
   "outputs": [],
   "source": [
    "# start = time.time()\n",
    "# seed = 125\n",
    "# test_size = 0.3\n",
    "# X_train, X_test, y_train, y_test = train_test_split(X, y, test_size=test_size, random_state=seed)\n",
    "\n",
    "# fit model no training data\n",
    "# model = XGBClassifier()\n",
    "# model.fit(X_train, y_train)\n",
    "# end = time.time()\n",
    "# print 'Training in %.2f'%(end-start)"
   ]
  },
  {
   "cell_type": "code",
   "execution_count": 24,
   "metadata": {},
   "outputs": [
    {
     "ename": "XGBoostError",
     "evalue": "need to call fit beforehand",
     "output_type": "error",
     "traceback": [
      "\u001b[0;31m\u001b[0m",
      "\u001b[0;31mXGBoostError\u001b[0mTraceback (most recent call last)",
      "\u001b[0;32m<ipython-input-24-53844c5a75c1>\u001b[0m in \u001b[0;36m<module>\u001b[0;34m()\u001b[0m\n\u001b[0;32m----> 1\u001b[0;31m \u001b[0my_pred\u001b[0m \u001b[0;34m=\u001b[0m \u001b[0mclf\u001b[0m\u001b[0;34m.\u001b[0m\u001b[0mpredict\u001b[0m\u001b[0;34m(\u001b[0m\u001b[0mX_test\u001b[0m\u001b[0;34m)\u001b[0m\u001b[0;34m\u001b[0m\u001b[0m\n\u001b[0m",
      "\u001b[0;32m/home/phiha/anaconda2/lib/python2.7/site-packages/sklearn/utils/metaestimators.pyc\u001b[0m in \u001b[0;36m<lambda>\u001b[0;34m(*args, **kwargs)\u001b[0m\n\u001b[1;32m    113\u001b[0m \u001b[0;34m\u001b[0m\u001b[0m\n\u001b[1;32m    114\u001b[0m         \u001b[0;31m# lambda, but not partial, allows help() to work with update_wrapper\u001b[0m\u001b[0;34m\u001b[0m\u001b[0;34m\u001b[0m\u001b[0m\n\u001b[0;32m--> 115\u001b[0;31m         \u001b[0mout\u001b[0m \u001b[0;34m=\u001b[0m \u001b[0;32mlambda\u001b[0m \u001b[0;34m*\u001b[0m\u001b[0margs\u001b[0m\u001b[0;34m,\u001b[0m \u001b[0;34m**\u001b[0m\u001b[0mkwargs\u001b[0m\u001b[0;34m:\u001b[0m \u001b[0mself\u001b[0m\u001b[0;34m.\u001b[0m\u001b[0mfn\u001b[0m\u001b[0;34m(\u001b[0m\u001b[0mobj\u001b[0m\u001b[0;34m,\u001b[0m \u001b[0;34m*\u001b[0m\u001b[0margs\u001b[0m\u001b[0;34m,\u001b[0m \u001b[0;34m**\u001b[0m\u001b[0mkwargs\u001b[0m\u001b[0;34m)\u001b[0m\u001b[0;34m\u001b[0m\u001b[0m\n\u001b[0m\u001b[1;32m    116\u001b[0m         \u001b[0;31m# update the docstring of the returned function\u001b[0m\u001b[0;34m\u001b[0m\u001b[0;34m\u001b[0m\u001b[0m\n\u001b[1;32m    117\u001b[0m         \u001b[0mupdate_wrapper\u001b[0m\u001b[0;34m(\u001b[0m\u001b[0mout\u001b[0m\u001b[0;34m,\u001b[0m \u001b[0mself\u001b[0m\u001b[0;34m.\u001b[0m\u001b[0mfn\u001b[0m\u001b[0;34m)\u001b[0m\u001b[0;34m\u001b[0m\u001b[0m\n",
      "\u001b[0;32m/home/phiha/anaconda2/lib/python2.7/site-packages/sklearn/model_selection/_search.pyc\u001b[0m in \u001b[0;36mpredict\u001b[0;34m(self, X)\u001b[0m\n\u001b[1;32m    465\u001b[0m         \"\"\"\n\u001b[1;32m    466\u001b[0m         \u001b[0mself\u001b[0m\u001b[0;34m.\u001b[0m\u001b[0m_check_is_fitted\u001b[0m\u001b[0;34m(\u001b[0m\u001b[0;34m'predict'\u001b[0m\u001b[0;34m)\u001b[0m\u001b[0;34m\u001b[0m\u001b[0m\n\u001b[0;32m--> 467\u001b[0;31m         \u001b[0;32mreturn\u001b[0m \u001b[0mself\u001b[0m\u001b[0;34m.\u001b[0m\u001b[0mbest_estimator_\u001b[0m\u001b[0;34m.\u001b[0m\u001b[0mpredict\u001b[0m\u001b[0;34m(\u001b[0m\u001b[0mX\u001b[0m\u001b[0;34m)\u001b[0m\u001b[0;34m\u001b[0m\u001b[0m\n\u001b[0m\u001b[1;32m    468\u001b[0m \u001b[0;34m\u001b[0m\u001b[0m\n\u001b[1;32m    469\u001b[0m     \u001b[0;34m@\u001b[0m\u001b[0mif_delegate_has_method\u001b[0m\u001b[0;34m(\u001b[0m\u001b[0mdelegate\u001b[0m\u001b[0;34m=\u001b[0m\u001b[0;34m(\u001b[0m\u001b[0;34m'best_estimator_'\u001b[0m\u001b[0;34m,\u001b[0m \u001b[0;34m'estimator'\u001b[0m\u001b[0;34m)\u001b[0m\u001b[0;34m)\u001b[0m\u001b[0;34m\u001b[0m\u001b[0m\n",
      "\u001b[0;32m/home/phiha/anaconda2/lib/python2.7/site-packages/xgboost/sklearn.pyc\u001b[0m in \u001b[0;36mpredict\u001b[0;34m(self, data, output_margin, ntree_limit)\u001b[0m\n\u001b[1;32m    461\u001b[0m     \u001b[0;32mdef\u001b[0m \u001b[0mpredict\u001b[0m\u001b[0;34m(\u001b[0m\u001b[0mself\u001b[0m\u001b[0;34m,\u001b[0m \u001b[0mdata\u001b[0m\u001b[0;34m,\u001b[0m \u001b[0moutput_margin\u001b[0m\u001b[0;34m=\u001b[0m\u001b[0mFalse\u001b[0m\u001b[0;34m,\u001b[0m \u001b[0mntree_limit\u001b[0m\u001b[0;34m=\u001b[0m\u001b[0;36m0\u001b[0m\u001b[0;34m)\u001b[0m\u001b[0;34m:\u001b[0m\u001b[0;34m\u001b[0m\u001b[0m\n\u001b[1;32m    462\u001b[0m         \u001b[0mtest_dmatrix\u001b[0m \u001b[0;34m=\u001b[0m \u001b[0mDMatrix\u001b[0m\u001b[0;34m(\u001b[0m\u001b[0mdata\u001b[0m\u001b[0;34m,\u001b[0m \u001b[0mmissing\u001b[0m\u001b[0;34m=\u001b[0m\u001b[0mself\u001b[0m\u001b[0;34m.\u001b[0m\u001b[0mmissing\u001b[0m\u001b[0;34m)\u001b[0m\u001b[0;34m\u001b[0m\u001b[0m\n\u001b[0;32m--> 463\u001b[0;31m         class_probs = self.booster().predict(test_dmatrix,\n\u001b[0m\u001b[1;32m    464\u001b[0m                                              \u001b[0moutput_margin\u001b[0m\u001b[0;34m=\u001b[0m\u001b[0moutput_margin\u001b[0m\u001b[0;34m,\u001b[0m\u001b[0;34m\u001b[0m\u001b[0m\n\u001b[1;32m    465\u001b[0m                                              ntree_limit=ntree_limit)\n",
      "\u001b[0;32m/home/phiha/anaconda2/lib/python2.7/site-packages/xgboost/sklearn.pyc\u001b[0m in \u001b[0;36mbooster\u001b[0;34m(self)\u001b[0m\n\u001b[1;32m    161\u001b[0m         \"\"\"\n\u001b[1;32m    162\u001b[0m         \u001b[0;32mif\u001b[0m \u001b[0mself\u001b[0m\u001b[0;34m.\u001b[0m\u001b[0m_Booster\u001b[0m \u001b[0;32mis\u001b[0m \u001b[0mNone\u001b[0m\u001b[0;34m:\u001b[0m\u001b[0;34m\u001b[0m\u001b[0m\n\u001b[0;32m--> 163\u001b[0;31m             \u001b[0;32mraise\u001b[0m \u001b[0mXGBoostError\u001b[0m\u001b[0;34m(\u001b[0m\u001b[0;34m'need to call fit beforehand'\u001b[0m\u001b[0;34m)\u001b[0m\u001b[0;34m\u001b[0m\u001b[0m\n\u001b[0m\u001b[1;32m    164\u001b[0m         \u001b[0;32mreturn\u001b[0m \u001b[0mself\u001b[0m\u001b[0;34m.\u001b[0m\u001b[0m_Booster\u001b[0m\u001b[0;34m\u001b[0m\u001b[0m\n\u001b[1;32m    165\u001b[0m \u001b[0;34m\u001b[0m\u001b[0m\n",
      "\u001b[0;31mXGBoostError\u001b[0m: need to call fit beforehand"
     ]
    }
   ],
   "source": [
    "y_pred = clf.predict(X_test)"
   ]
  },
  {
   "cell_type": "code",
   "execution_count": null,
   "metadata": {
    "collapsed": true
   },
   "outputs": [],
   "source": [
    "print(classification_report(y_pred,y_test))"
   ]
  },
  {
   "cell_type": "code",
   "execution_count": null,
   "metadata": {
    "collapsed": true
   },
   "outputs": [],
   "source": [
    "print(classification_report(y_pred,y_test))"
   ]
  },
  {
   "cell_type": "code",
   "execution_count": null,
   "metadata": {
    "collapsed": true
   },
   "outputs": [],
   "source": []
  }
 ],
 "metadata": {
  "kernelspec": {
   "display_name": "Python 2",
   "language": "python",
   "name": "python2"
  },
  "language_info": {
   "codemirror_mode": {
    "name": "ipython",
    "version": 2
   },
   "file_extension": ".py",
   "mimetype": "text/x-python",
   "name": "python",
   "nbconvert_exporter": "python",
   "pygments_lexer": "ipython2",
   "version": "2.7.14"
  },
  "widgets": {
   "application/vnd.jupyter.widget-state+json": {
    "state": {},
    "version_major": 2,
    "version_minor": 0
   }
  }
 },
 "nbformat": 4,
 "nbformat_minor": 1
}

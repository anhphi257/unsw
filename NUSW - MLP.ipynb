{
 "cells": [
  {
   "cell_type": "code",
   "execution_count": 1,
   "metadata": {
    "collapsed": true
   },
   "outputs": [],
   "source": [
    "import numpy as np\n",
    "import tensorflow as tf\n",
    "import tflearn\n",
    "from six.moves import cPickle as pickle\n",
    "from sklearn import linear_model"
   ]
  },
  {
   "cell_type": "code",
   "execution_count": 2,
   "metadata": {
    "collapsed": false
   },
   "outputs": [
    {
     "name": "stdout",
     "output_type": "stream",
     "text": [
      "('Training set', (62332, 42), (62332,))\n",
      "('Validation set', (10000, 42), (10000,))\n",
      "('Test set', (10000, 42), (10000,))\n"
     ]
    }
   ],
   "source": [
    "pickle_file = 'nusm.pickle'\n",
    "with open(pickle_file, 'rb') as f:\n",
    "    save = pickle.load(f)\n",
    "    train_dataset = save['train_dataset']\n",
    "    train_labels = save['train_labels']\n",
    "    valid_dataset = save['valid_dataset']\n",
    "    valid_labels = save['valid_labels']\n",
    "    test_dataset = save['test_dataset']\n",
    "    test_labels = save['test_labels']\n",
    "    del save  # hint to help gc free up memory\n",
    "    print('Training set', train_dataset.shape, train_labels.shape)\n",
    "    print('Validation set', valid_dataset.shape, valid_labels.shape)\n",
    "    print('Test set', test_dataset.shape, test_labels.shape)"
   ]
  },
  {
   "cell_type": "code",
   "execution_count": 3,
   "metadata": {
    "collapsed": false
   },
   "outputs": [
    {
     "name": "stdout",
     "output_type": "stream",
     "text": [
      "('Training set', (62332, 42), (62332, 2))\n",
      "('Validation set', (10000, 42), (10000, 2))\n",
      "('Test set', (10000, 42), (10000, 2))\n"
     ]
    }
   ],
   "source": [
    "num_labels = 2\n",
    "\n",
    "def reformat(labels):\n",
    "    labels = (np.arange(num_labels) == labels[:,None]).astype(np.float32)\n",
    "    return labels\n",
    "\n",
    "train_labels = reformat(train_labels)\n",
    "test_labels = reformat(test_labels)\n",
    "valid_labels = reformat(valid_labels)\n",
    "print('Training set', train_dataset.shape, train_labels.shape)\n",
    "print('Validation set', valid_dataset.shape, valid_labels.shape)\n",
    "print('Test set', test_dataset.shape, test_labels.shape)"
   ]
  },
  {
   "cell_type": "code",
   "execution_count": 4,
   "metadata": {
    "collapsed": false
   },
   "outputs": [
    {
     "name": "stdout",
     "output_type": "stream",
     "text": [
      "Training Step: 19479  | total loss: \u001b[1m\u001b[32m0.57733\u001b[0m\u001b[0m | time: 4.980s\n",
      "| Adam | epoch: 020 | loss: 0.57733 - acc: 0.7150 -- iter: 62272/62332\n",
      "Training Step: 19480  | total loss: \u001b[1m\u001b[32m0.57465\u001b[0m\u001b[0m | time: 6.062s\n",
      "| Adam | epoch: 020 | loss: 0.57465 - acc: 0.7154 | val_loss: 0.55725 - val_acc: 0.7043 -- iter: 62332/62332\n",
      "--\n"
     ]
    }
   ],
   "source": [
    "input_layer = tflearn.input_data(shape=[None, 42])\n",
    "dense1 = tflearn.fully_connected(input_layer, 64, activation='tanh',\n",
    "                                 regularizer='L2', weight_decay=0.001)\n",
    "dropout1 = tflearn.dropout(dense1, 0.8)\n",
    "dense2 = tflearn.fully_connected(dropout1, 64, activation='tanh',\n",
    "                                 regularizer='L2', weight_decay=0.001)\n",
    "dropout2 = tflearn.dropout(dense2, 0.8)\n",
    "softmax = tflearn.fully_connected(dropout2, 2, activation='softmax')\n",
    "\n",
    "# Regression using SGD with learning rate decay and Top-3 accuracy\n",
    "sgd = tflearn.Adam(learning_rate=0.01, beta1=0.99)\n",
    "# top_k = tflearn.metrics.Top_k(k=1)\n",
    "acc = tflearn.metrics.Accuracy()\n",
    "net = tflearn.regression(softmax, optimizer=sgd, metric=acc,\n",
    "                         loss='categorical_crossentropy')\n",
    "\n",
    "# Training\n",
    "model = tflearn.DNN(net, tensorboard_verbose=0)\n",
    "model.fit(train_dataset, train_labels, n_epoch=20, validation_set=(valid_dataset, valid_labels),\n",
    "          show_metric=True, run_id=\"dense_model\")"
   ]
  },
  {
   "cell_type": "code",
   "execution_count": 5,
   "metadata": {
    "collapsed": false
   },
   "outputs": [
    {
     "data": {
      "text/plain": [
       "[0.70009999999999994]"
      ]
     },
     "execution_count": 5,
     "metadata": {},
     "output_type": "execute_result"
    }
   ],
   "source": [
    "model.evaluate(X=test_dataset, Y=test_labels)"
   ]
  },
  {
   "cell_type": "code",
   "execution_count": 6,
   "metadata": {
    "collapsed": false
   },
   "outputs": [
    {
     "data": {
      "text/plain": [
       "array([[ 0.,  1.],\n",
       "       [ 1.,  0.],\n",
       "       [ 1.,  0.],\n",
       "       ..., \n",
       "       [ 0.,  1.],\n",
       "       [ 0.,  1.],\n",
       "       [ 0.,  1.]], dtype=float32)"
      ]
     },
     "execution_count": 6,
     "metadata": {},
     "output_type": "execute_result"
    }
   ],
   "source": [
    "test_labels\n"
   ]
  },
  {
   "cell_type": "code",
   "execution_count": null,
   "metadata": {
    "collapsed": true
   },
   "outputs": [],
   "source": []
  }
 ],
 "metadata": {
  "kernelspec": {
   "display_name": "Python 2",
   "language": "python",
   "name": "python2"
  },
  "language_info": {
   "codemirror_mode": {
    "name": "ipython",
    "version": 2
   },
   "file_extension": ".py",
   "mimetype": "text/x-python",
   "name": "python",
   "nbconvert_exporter": "python",
   "pygments_lexer": "ipython2",
   "version": "2.7.12"
  }
 },
 "nbformat": 4,
 "nbformat_minor": 0
}
